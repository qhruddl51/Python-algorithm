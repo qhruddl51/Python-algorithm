{
 "cells": [
  {
   "cell_type": "code",
   "execution_count": 1,
   "metadata": {},
   "outputs": [],
   "source": [
    "import collections\n",
    "import heapq\n",
    "import functools\n",
    "import itertools\n",
    "import re\n",
    "import sys\n",
    "import math\n",
    "import bisect\n",
    "from typing import *"
   ]
  },
  {
   "cell_type": "markdown",
   "metadata": {},
   "source": [
    "# < 문제 >\n",
    "배열을 입력받아 합으로 0을 만들 수 있는 3개의 요소를 출력하라.\n",
    "- 입력 : nums = [-1,0,1,2,-1,-4]\n",
    "- 출력 : [ [-1,0,1], [-1,-1,2] ]"
   ]
  },
  {
   "cell_type": "code",
   "execution_count": 24,
   "metadata": {},
   "outputs": [],
   "source": [
    "numbers = [-1,0,1,2,-1,-4]\n",
    "\n",
    "def three_sum(nums) :\n",
    "    results = []\n",
    "    \n",
    "    # 중복되는 값을 쉽게 처리하기 위해 먼저 리스트를 크기 순으로 정렬!\n",
    "    nums.sort(reverse = False)\n",
    "    \n",
    "    for i in range(0,len(nums)-2) :\n",
    "        if i > 0 and  nums[i] == nums[i-1] :\n",
    "            print(\"이전의 i와 같으므로 다음 i로 넘어갑니다!\")\n",
    "            continue\n",
    "    \n",
    "        for j in range(i+1 , len(nums)-1) :\n",
    "            if j > i+1 and nums[j] == nums[j-1] :\n",
    "                print(\"이전의 j와 같으므로 다음 j로 넘어갑니다!\")\n",
    "                continue \n",
    "        \n",
    "            for k in range(j+1, len(nums)) :\n",
    "                if k > j+1 and nums[k] == nums[k-1] :\n",
    "                    print(\"이전의 k와 같으므로 다음 k로 넘어갑니다!\")\n",
    "                    continue\n",
    "            \n",
    "                if nums[i] + nums[j]  + nums[k] == 0 :\n",
    "                    results.append([nums[i], nums[j], nums[k]])\n",
    "                    print(results)\n",
    "    \n",
    "    return results"
   ]
  },
  {
   "cell_type": "code",
   "execution_count": 25,
   "metadata": {},
   "outputs": [
    {
     "name": "stdout",
     "output_type": "stream",
     "text": [
      "이전의 j와 같으므로 다음 j로 넘어갑니다!\n",
      "[[-1, -1, 2]]\n",
      "[[-1, -1, 2], [-1, 0, 1]]\n",
      "이전의 i와 같으므로 다음 i로 넘어갑니다!\n"
     ]
    },
    {
     "data": {
      "text/plain": [
       "[[-1, -1, 2], [-1, 0, 1]]"
      ]
     },
     "execution_count": 25,
     "metadata": {},
     "output_type": "execute_result"
    }
   ],
   "source": [
    "three_sum(nums = numbers)"
   ]
  },
  {
   "cell_type": "markdown",
   "metadata": {},
   "source": [
    "# 투포인터로 합 계산\n",
    " - i를 앞에서부터 차례로 끄집어 내면서 \n",
    " - 그 i에 대해서 투 포인터로 범위를 좁혀가면서 합해서 0되는 조합을 찾는다!\n",
    " - 물론 중복된 값에 대해서 스킵하기 위한 부분도 넣어주자!"
   ]
  },
  {
   "cell_type": "code",
   "execution_count": 40,
   "metadata": {},
   "outputs": [],
   "source": [
    "numbers = [-1,0,1,2,-1,-4]\n",
    "\n",
    "def three_sum (nums, target) -> tuple : \n",
    "    results = []\n",
    "    nums.sort(reverse = False)\n",
    "    print(nums)\n",
    "\n",
    "    for i in range(0, len(nums)-2) :\n",
    "        if i >0 and nums[i] == nums[i-1] :\n",
    "            continue\n",
    "    \n",
    "        left = i+1\n",
    "        right = len(nums) -1\n",
    "    \n",
    "        while left < right : \n",
    "            while left > i+1 and nums[left] == nums[left-1] :\n",
    "                left += 1\n",
    "            while right < len(nums) -1 and nums[right] == nums[right +1] :\n",
    "                right -= 1\n",
    "        \n",
    "            sum = nums[left] + nums[right] + nums[i]\n",
    "        \n",
    "            if sum > target :\n",
    "                right -= 1\n",
    "            elif sum < target :\n",
    "                left += 1\n",
    "            else : #nums[left] + nums[right] + nums[i] == target\n",
    "                results.append( [nums[i],nums[left],nums[right]] )\n",
    "                right -= 1\n",
    "                left += 1\n",
    "                \n",
    "    return results  "
   ]
  },
  {
   "cell_type": "code",
   "execution_count": 41,
   "metadata": {},
   "outputs": [
    {
     "name": "stdout",
     "output_type": "stream",
     "text": [
      "[-4, -1, -1, 0, 1, 2]\n"
     ]
    },
    {
     "data": {
      "text/plain": [
       "[[-1, -1, 2], [-1, 0, 1]]"
      ]
     },
     "execution_count": 41,
     "metadata": {},
     "output_type": "execute_result"
    }
   ],
   "source": [
    "three_sum(nums=numbers,target = 0)"
   ]
  },
  {
   "cell_type": "code",
   "execution_count": null,
   "metadata": {},
   "outputs": [],
   "source": []
  }
 ],
 "metadata": {
  "kernelspec": {
   "display_name": "Python 3",
   "language": "python",
   "name": "python3"
  },
  "language_info": {
   "codemirror_mode": {
    "name": "ipython",
    "version": 3
   },
   "file_extension": ".py",
   "mimetype": "text/x-python",
   "name": "python",
   "nbconvert_exporter": "python",
   "pygments_lexer": "ipython3",
   "version": "3.6.9"
  }
 },
 "nbformat": 4,
 "nbformat_minor": 4
}
