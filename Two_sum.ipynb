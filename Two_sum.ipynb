{
 "cells": [
  {
   "cell_type": "code",
   "execution_count": 1,
   "metadata": {},
   "outputs": [],
   "source": [
    "import collections\n",
    "import heapq\n",
    "import functools\n",
    "import itertools\n",
    "import re\n",
    "import sys\n",
    "import math\n",
    "import bisect\n",
    "from typing import *"
   ]
  },
  {
   "cell_type": "markdown",
   "metadata": {},
   "source": [
    "# <문제>\n",
    "숫자가 들어있는 리스트에서 덧셈을 해서 타겟 값이 되는 두 숫자의 인덱스를 리턴하라\n",
    "- 단, 리스트에 중복된 숫자는 없다. "
   ]
  },
  {
   "cell_type": "code",
   "execution_count": 2,
   "metadata": {},
   "outputs": [
    {
     "data": {
      "text/plain": [
       "1"
      ]
     },
     "execution_count": 2,
     "metadata": {},
     "output_type": "execute_result"
    }
   ],
   "source": [
    "list = [1,4,1,4,1]\n",
    "list.index(4) # 그 값을 가지는 첫번째 요소의 인덱스 번호를 돌려줌!"
   ]
  },
  {
   "cell_type": "code",
   "execution_count": 4,
   "metadata": {},
   "outputs": [
    {
     "data": {
      "text/plain": [
       "<function list.index>"
      ]
     },
     "execution_count": 4,
     "metadata": {},
     "output_type": "execute_result"
    }
   ],
   "source": [
    "list.index"
   ]
  },
  {
   "cell_type": "markdown",
   "metadata": {},
   "source": [
    "# 방법 1 ) 브루트포스(무차별대입방식)로 계산"
   ]
  },
  {
   "cell_type": "code",
   "execution_count": 33,
   "metadata": {},
   "outputs": [],
   "source": [
    "numbers = [2,7,11,15,58,100,96]\n",
    "\n",
    "t = 154\n",
    "\n",
    "def brute_force ( nums : List[int], target : int ) : \n",
    "\n",
    "    for i in range(len(nums)-2):\n",
    "        \n",
    "        for j in range(i+1,len(nums)) : \n",
    "            \n",
    "            if nums[i] + nums[j] == target : \n",
    "                return i,j\n",
    "            else : \n",
    "                pass \n",
    "            \n",
    "    return \"그런거 없습니다.\""
   ]
  },
  {
   "cell_type": "code",
   "execution_count": 34,
   "metadata": {},
   "outputs": [
    {
     "data": {
      "text/plain": [
       "(4, 6)"
      ]
     },
     "execution_count": 34,
     "metadata": {},
     "output_type": "execute_result"
    }
   ],
   "source": [
    "brute_force(nums = numbers, target=t)"
   ]
  },
  {
   "cell_type": "markdown",
   "metadata": {},
   "source": [
    "# 방법 2 ) in을 이용한 탐색\n",
    "- 하지만 원리는 앞의 무차별대입방식과 같음"
   ]
  },
  {
   "cell_type": "code",
   "execution_count": 36,
   "metadata": {},
   "outputs": [
    {
     "data": {
      "text/plain": [
       "True"
      ]
     },
     "execution_count": 36,
     "metadata": {},
     "output_type": "execute_result"
    }
   ],
   "source": [
    "list = [1,2,3,4,5]\n",
    "1 in list"
   ]
  },
  {
   "cell_type": "code",
   "execution_count": 39,
   "metadata": {},
   "outputs": [],
   "source": [
    "numbers = [2,7,11,15]\n",
    "\n",
    "def in_brute (nums : List[int], target : int) -> Tuple : \n",
    "\n",
    "    for i,num in enumerate(nums) :\n",
    "        term = target - num\n",
    "    \n",
    "        if term in nums[i+1:] :\n",
    "            return i,(nums[i+1:].index(term)) +i+1\n",
    "        else : \n",
    "            pass # if-else\n",
    "    \n",
    "    return \"그런거 없습니다.\""
   ]
  },
  {
   "cell_type": "code",
   "execution_count": 40,
   "metadata": {},
   "outputs": [
    {
     "data": {
      "text/plain": [
       "(1, 3)"
      ]
     },
     "execution_count": 40,
     "metadata": {},
     "output_type": "execute_result"
    }
   ],
   "source": [
    "in_brute(nums= numbers, target= 22)"
   ]
  },
  {
   "cell_type": "markdown",
   "metadata": {},
   "source": [
    "# 방법 3) 앞에서부터 숫자를 뺀 결과값을 키로 조회\n",
    "비교나 탐색 대신에 한 번에 정답을 찾기 위해 딕트를 이용한다."
   ]
  },
  {
   "cell_type": "code",
   "execution_count": 53,
   "metadata": {},
   "outputs": [],
   "source": [
    "numbers = [2,7,11,15]\n",
    "\n",
    "num_dict = {}\n",
    "\n",
    "def using_dict (nums : List[int], target : int) :\n",
    "    \n",
    "    # {num: index, ... } 형태의 딕트 생성\n",
    "    num_dict = {}\n",
    "    for i, num in enumerate(nums) :\n",
    "        num_dict[num] = i \n",
    "        pass # for\n",
    "    \n",
    "    # 키와 일치하는지로 조회함으로써 \n",
    "    # 그 키에 해당하는 밸류값(원래 리스트의 인덱스값)구하기\n",
    "    for i, num in enumerate(nums) :\n",
    "        term = target - num\n",
    "    \n",
    "        if term in num_dict.keys() and i != num_dict[term] :\n",
    "            return i, num_dict[term]"
   ]
  },
  {
   "cell_type": "code",
   "execution_count": 54,
   "metadata": {},
   "outputs": [
    {
     "data": {
      "text/plain": [
       "(1, 3)"
      ]
     },
     "execution_count": 54,
     "metadata": {},
     "output_type": "execute_result"
    }
   ],
   "source": [
    "using_dict(nums = numbers, target = 22)"
   ]
  },
  {
   "cell_type": "code",
   "execution_count": 55,
   "metadata": {},
   "outputs": [
    {
     "data": {
      "text/plain": [
       "tuple"
      ]
     },
     "execution_count": 55,
     "metadata": {},
     "output_type": "execute_result"
    }
   ],
   "source": [
    "type(using_dict(nums = numbers, target = 22))"
   ]
  },
  {
   "cell_type": "markdown",
   "metadata": {},
   "source": [
    "# 방법 4 ) 투 포인터 이용\n",
    "- 이건 리스트가 크기순대로 되어있었던 경우에만 쓸 수 있는 방식이다.\n",
    "- 그렇지 않은 경우에는, 리스트를 크기 순대로 정렬(nums.sort(reverse=False))을 한 다음 써야 하는데, 그러면 원래 리스트의 인덱스가 없어져버리기 때문에 안된다. \n",
    "- 리스트를 딥카피를 해놓음으로써 할수도 있겠지만, 이건 메모리상 비효율적이다."
   ]
  },
  {
   "cell_type": "code",
   "execution_count": 64,
   "metadata": {},
   "outputs": [],
   "source": [
    "numbers = [2,7,11,15]\n",
    "\n",
    "def two_pointer (nums : List[int], target : int) -> Tuple : \n",
    "    left, right = 0, len(nums)-1 \n",
    "    while left < right :  \n",
    "        if nums[left] + nums[right] > target :\n",
    "            right -= 1 \n",
    "        elif nums[left] + nums[right] < target :\n",
    "            left += 1\n",
    "        else : # 합이 타겟값과 같은 경우\n",
    "            return left, right\n",
    "        \n",
    "    return \"그런 값 없습니다.\""
   ]
  },
  {
   "cell_type": "code",
   "execution_count": 65,
   "metadata": {},
   "outputs": [
    {
     "data": {
      "text/plain": [
       "'그런 값 없습니다.'"
      ]
     },
     "execution_count": 65,
     "metadata": {},
     "output_type": "execute_result"
    }
   ],
   "source": [
    "two_pointer(nums = numbers, target = 32)"
   ]
  },
  {
   "cell_type": "code",
   "execution_count": 66,
   "metadata": {},
   "outputs": [
    {
     "data": {
      "text/plain": [
       "(1, 3)"
      ]
     },
     "execution_count": 66,
     "metadata": {},
     "output_type": "execute_result"
    }
   ],
   "source": [
    "two_pointer(nums = numbers, target = 22)"
   ]
  }
 ],
 "metadata": {
  "kernelspec": {
   "display_name": "Python 3",
   "language": "python",
   "name": "python3"
  },
  "language_info": {
   "codemirror_mode": {
    "name": "ipython",
    "version": 3
   },
   "file_extension": ".py",
   "mimetype": "text/x-python",
   "name": "python",
   "nbconvert_exporter": "python",
   "pygments_lexer": "ipython3",
   "version": "3.6.9"
  }
 },
 "nbformat": 4,
 "nbformat_minor": 4
}
