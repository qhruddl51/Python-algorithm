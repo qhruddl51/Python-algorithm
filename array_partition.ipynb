{
 "cells": [
  {
   "cell_type": "code",
   "execution_count": 1,
   "metadata": {},
   "outputs": [],
   "source": [
    "import collections\n",
    "import heapq\n",
    "import functools\n",
    "import itertools\n",
    "import re\n",
    "import sys\n",
    "import math\n",
    "import bisect\n",
    "from typing import *"
   ]
  },
  {
   "cell_type": "markdown",
   "metadata": {},
   "source": [
    "# < 문제 >\n",
    "짝수개의 숫자가 주어졌을 때, min(a,b)의 합으로 만들 수 있는 가장 큰 수를 출력하라.\n",
    "- 입력 : [1,4,3,2]\n",
    "- 출력 : 4"
   ]
  },
  {
   "cell_type": "markdown",
   "metadata": {},
   "source": [
    "# 방법 1 ) 오름차순 풀이\n",
    "- 두 개 쌍이 되면 그중에 min을 골라서 sum에 더하고..."
   ]
  },
  {
   "cell_type": "code",
   "execution_count": 9,
   "metadata": {},
   "outputs": [
    {
     "name": "stdout",
     "output_type": "stream",
     "text": [
      "1\n",
      "1\n",
      "a\n",
      "1\n"
     ]
    }
   ],
   "source": [
    "t = (1,2)\n",
    "l = [1,2]\n",
    "d = {'a':1, \"b\":2}\n",
    "s = set([1,2])\n",
    "\n",
    "print(min(t))\n",
    "print(min(l))\n",
    "print(min(d))\n",
    "print(min(s))"
   ]
  },
  {
   "cell_type": "code",
   "execution_count": 16,
   "metadata": {},
   "outputs": [],
   "source": [
    "def array_partition (nums : list) -> int : \n",
    "    sum = 0\n",
    "    pair = []\n",
    "    \n",
    "    nums.sort(reverse=False)\n",
    "    \n",
    "    for num in nums :\n",
    "        pair.append(num)\n",
    "        \n",
    "        if len(pair) == 2:\n",
    "            sum += min(pair)\n",
    "            pair = []\n",
    "    return sum"
   ]
  },
  {
   "cell_type": "code",
   "execution_count": 30,
   "metadata": {},
   "outputs": [
    {
     "data": {
      "text/plain": [
       "4"
      ]
     },
     "execution_count": 30,
     "metadata": {},
     "output_type": "execute_result"
    }
   ],
   "source": [
    "numbers = [1,4,3,2]\n",
    "array_partition(nums = numbers)"
   ]
  },
  {
   "cell_type": "markdown",
   "metadata": {},
   "source": [
    "# 방법 2 ) 짝수 번째 값 계산\n",
    "- 정렬 후 짝수 번째 값만 꺼내서 sum에 더한다"
   ]
  },
  {
   "cell_type": "code",
   "execution_count": 24,
   "metadata": {},
   "outputs": [],
   "source": [
    "def array_partition (nums : list) -> int:\n",
    "    sum = 0\n",
    "    nums.sort(reverse=False)\n",
    "    \n",
    "    for i, num in enumerate(nums) :\n",
    "        if i%2 == 0 :\n",
    "            sum += num\n",
    "            pass # if\n",
    "        pass # for\n",
    "    \n",
    "    return sum "
   ]
  },
  {
   "cell_type": "code",
   "execution_count": 29,
   "metadata": {},
   "outputs": [
    {
     "data": {
      "text/plain": [
       "4"
      ]
     },
     "execution_count": 29,
     "metadata": {},
     "output_type": "execute_result"
    }
   ],
   "source": [
    "numbers = [1,4,3,2]\n",
    "array_partition(nums = numbers)"
   ]
  },
  {
   "cell_type": "markdown",
   "metadata": {},
   "source": [
    "# 방법 3 ) 파이썬다운 방식\n",
    "- 슬라이싱 활용!"
   ]
  },
  {
   "cell_type": "code",
   "execution_count": 27,
   "metadata": {},
   "outputs": [],
   "source": [
    "def array_partition (nums : list) -> int :\n",
    "    return sum(sorted(nums, reverse=False)[0::2])"
   ]
  },
  {
   "cell_type": "code",
   "execution_count": 28,
   "metadata": {},
   "outputs": [
    {
     "data": {
      "text/plain": [
       "4"
      ]
     },
     "execution_count": 28,
     "metadata": {},
     "output_type": "execute_result"
    }
   ],
   "source": [
    "numbers = [1,4,3,2]\n",
    "array_partition(nums = numbers)"
   ]
  }
 ],
 "metadata": {
  "kernelspec": {
   "display_name": "Python 3",
   "language": "python",
   "name": "python3"
  },
  "language_info": {
   "codemirror_mode": {
    "name": "ipython",
    "version": 3
   },
   "file_extension": ".py",
   "mimetype": "text/x-python",
   "name": "python",
   "nbconvert_exporter": "python",
   "pygments_lexer": "ipython3",
   "version": "3.6.9"
  }
 },
 "nbformat": 4,
 "nbformat_minor": 4
}
