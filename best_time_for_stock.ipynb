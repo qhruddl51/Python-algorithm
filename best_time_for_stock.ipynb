{
 "cells": [
  {
   "cell_type": "code",
   "execution_count": 1,
   "metadata": {},
   "outputs": [],
   "source": [
    "import collections\n",
    "import heapq\n",
    "import functools\n",
    "import itertools\n",
    "import re\n",
    "import sys\n",
    "import math\n",
    "import bisect\n",
    "from typing import *"
   ]
  },
  {
   "cell_type": "markdown",
   "metadata": {},
   "source": [
    "# < 문제 > 주식을 사고 팔기 가장 좋은 시점\n",
    "한 번의 거래로 낼 수 있는 최대 이익을 산출하라.\n",
    "- 입력 : [7,1,5,3,6,4]\n",
    "- 출력 : 5"
   ]
  },
  {
   "cell_type": "markdown",
   "metadata": {},
   "source": [
    "# 방법 1 ) 브루트 포스로 계산"
   ]
  },
  {
   "cell_type": "code",
   "execution_count": 14,
   "metadata": {},
   "outputs": [],
   "source": [
    "# 1. results 라는 리스트가 들어가는 변수가 생기고, 나중에 max 연산을 한 번 더 해야 한다.\n",
    "l = [7,1,5,3,6,4]\n",
    "results = []\n",
    "\n",
    "# 먼저 뒤에 큰 수가 있는지 탐색한 후 \n",
    "# 뒤의 가장 큰수에서 나 자신을 뺀다. \n",
    "def best_time_for_stock (nums:List[int]) -> int :\n",
    "    results = []\n",
    "    for i in range(0,len(l)-1):\n",
    "        me = l[i]\n",
    "        if l[i] < max(l[i+1:]) :\n",
    "            results.append(max(l[i+1:])-l[i])\n",
    "        else : \n",
    "            pass\n",
    "    return max(results)"
   ]
  },
  {
   "cell_type": "code",
   "execution_count": 15,
   "metadata": {},
   "outputs": [
    {
     "data": {
      "text/plain": [
       "5"
      ]
     },
     "execution_count": 15,
     "metadata": {},
     "output_type": "execute_result"
    }
   ],
   "source": [
    "best_time_for_stock (nums = l)"
   ]
  },
  {
   "cell_type": "code",
   "execution_count": 25,
   "metadata": {},
   "outputs": [],
   "source": [
    "# p라는 최대 term을 담는 변수가 더 생기고, 조건식의 조건이 하나 더 생기며, 뒷부분의 최댓값을 담는 변수 m과 max 연산이 추가된다. \n",
    "l = [7,1,5,3,6,4]\n",
    "\n",
    "# 먼저 뒤에 큰 수가 있는지 탐색한 후 \n",
    "# 뒤의 가장 큰수에서 나 자신을 뺀다. \n",
    "def best_time_for_stock (nums:List[int]) -> int :\n",
    "    results = []\n",
    "    p=0\n",
    "    for i in range(0,len(l)-1):\n",
    "        me = l[i]\n",
    "        m = max(l[i+1:])\n",
    "        if l[i] < m and p < m - l[i]:\n",
    "            p = max(l[i+1:])-l[i]\n",
    "        else : \n",
    "            pass\n",
    "    return p"
   ]
  },
  {
   "cell_type": "code",
   "execution_count": 26,
   "metadata": {},
   "outputs": [
    {
     "data": {
      "text/plain": [
       "5"
      ]
     },
     "execution_count": 26,
     "metadata": {},
     "output_type": "execute_result"
    }
   ],
   "source": [
    "best_time_for_stock (nums = l)"
   ]
  },
  {
   "cell_type": "markdown",
   "metadata": {},
   "source": [
    "# 방법 2 ) 갱신되는 최저점과 현재 값과의 차이 계산\n",
    "- 리스트에서 요소를 하나씩 뽑아서 계속 최솟값을 갱신해 나간다. \n",
    "- 그리고 현재 꺼낸 요소에서 현재까지중 최솟값을 뺀 것을 계속 업데이트 시키면서 그 텀이 가장 큰 값을 구한다.\n",
    "- cf ) 카데인 알고리즘"
   ]
  },
  {
   "cell_type": "code",
   "execution_count": 36,
   "metadata": {},
   "outputs": [],
   "source": [
    "l = [7,1,5,3,6,4]\n",
    "\n",
    "def best_time_for_stock(nums:List[int]) -> int :\n",
    "    \n",
    "    min_value = sys.maxsize\n",
    "    max_term = 0\n",
    "    for num in l :\n",
    "        min_value = min(min_value, num)\n",
    "        max_term = max(max_term, num - min_value) # \n",
    "    \n",
    "    return max_term"
   ]
  },
  {
   "cell_type": "code",
   "execution_count": 37,
   "metadata": {},
   "outputs": [
    {
     "data": {
      "text/plain": [
       "5"
      ]
     },
     "execution_count": 37,
     "metadata": {},
     "output_type": "execute_result"
    }
   ],
   "source": [
    "best_time_for_stock(nums=l)"
   ]
  },
  {
   "cell_type": "code",
   "execution_count": null,
   "metadata": {},
   "outputs": [],
   "source": []
  }
 ],
 "metadata": {
  "kernelspec": {
   "display_name": "Python 3",
   "language": "python",
   "name": "python3"
  },
  "language_info": {
   "codemirror_mode": {
    "name": "ipython",
    "version": 3
   },
   "file_extension": ".py",
   "mimetype": "text/x-python",
   "name": "python",
   "nbconvert_exporter": "python",
   "pygments_lexer": "ipython3",
   "version": "3.6.9"
  }
 },
 "nbformat": 4,
 "nbformat_minor": 4
}
