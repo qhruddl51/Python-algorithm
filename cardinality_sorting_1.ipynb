{
 "cells": [
  {
   "cell_type": "code",
   "execution_count": 1,
   "metadata": {},
   "outputs": [],
   "source": [
    "import collections\n",
    "import heapq\n",
    "import functools\n",
    "import itertools\n",
    "import re\n",
    "import sys\n",
    "import math\n",
    "import bisect\n",
    "from typing import *"
   ]
  },
  {
   "cell_type": "code",
   "execution_count": 2,
   "metadata": {},
   "outputs": [],
   "source": [
    "numbers = [1,3,4,7]\n",
    "\n",
    "def cardinalitySort(nums):\n",
    "    # Write your code here\n",
    "    \n",
    "    ca_l = []\n",
    "    num_origin = nums\n",
    "    \n",
    "    for num in nums :\n",
    "        \n",
    "        remainders = []\n",
    "        while (num > 0) :\n",
    "            r = num %2 # 나머지\n",
    "            num = num // 2 # 몫\n",
    "            \n",
    "            remainders.append(r)\n",
    "        \n",
    "        ca_l.append(sum(remainders))\n",
    "        # 카디널리티 리스트 완성!\n",
    "        \n",
    "        print(ca_l)\n",
    "        \n",
    "    cal_origin =[]\n",
    "    # cal_origin 리스트 안에 튜플(십진수, 카디널리티) 만들기 \n",
    "    for i1,c in enumerate(ca_l) :\n",
    "        for i2, n in enumerate(num_origin) :   \n",
    "            if i1 == i2 :\n",
    "                cal_origin.append((n, c))\n",
    "                \n",
    "    print(cal_origin)\n",
    "    \n",
    "    # 카디널리티 리스트 정렬\n",
    "    ca_l.sort()\n",
    "    print(ca_l) \n",
    "    \n",
    "    results = []\n",
    "    for k in ca_l :\n",
    "        b = True\n",
    "        for j, co in enumerate(cal_origin) :\n",
    "            if k == co[1] and b :\n",
    "                results.append(co[0])\n",
    "                cal_origin.pop(j)\n",
    "                b = False      \n",
    "            if len(cal_origin) == 0 :\n",
    "                return results"
   ]
  },
  {
   "cell_type": "code",
   "execution_count": 3,
   "metadata": {},
   "outputs": [
    {
     "name": "stdout",
     "output_type": "stream",
     "text": [
      "[1]\n",
      "[1, 2]\n",
      "[1, 2, 1]\n",
      "[1, 2, 1, 3]\n",
      "[(1, 1), (3, 2), (4, 1), (7, 3)]\n",
      "[1, 1, 2, 3]\n"
     ]
    },
    {
     "data": {
      "text/plain": [
       "[1, 4, 3, 7]"
      ]
     },
     "execution_count": 3,
     "metadata": {},
     "output_type": "execute_result"
    }
   ],
   "source": [
    "cardinalitySort(nums = numbers)"
   ]
  },
  {
   "cell_type": "code",
   "execution_count": null,
   "metadata": {},
   "outputs": [],
   "source": []
  }
 ],
 "metadata": {
  "kernelspec": {
   "display_name": "Python 3",
   "language": "python",
   "name": "python3"
  },
  "language_info": {
   "codemirror_mode": {
    "name": "ipython",
    "version": 3
   },
   "file_extension": ".py",
   "mimetype": "text/x-python",
   "name": "python",
   "nbconvert_exporter": "python",
   "pygments_lexer": "ipython3",
   "version": "3.6.9"
  }
 },
 "nbformat": 4,
 "nbformat_minor": 4
}
