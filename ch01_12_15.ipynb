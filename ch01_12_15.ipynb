{
 "cells": [
  {
   "cell_type": "code",
   "execution_count": 1,
   "metadata": {},
   "outputs": [],
   "source": [
    "import collections\n",
    "import heapq\n",
    "import functools\n",
    "import itertools\n",
    "import re\n",
    "import sys\n",
    "import math\n",
    "import bisect\n",
    "from typing import *"
   ]
  },
  {
   "cell_type": "markdown",
   "metadata": {},
   "source": [
    "# 문제 ) 줄바꿈 없이 +, -를 연속해서 주어진 수만큼 출력"
   ]
  },
  {
   "cell_type": "code",
   "execution_count": 12,
   "metadata": {},
   "outputs": [
    {
     "name": "stdout",
     "output_type": "stream",
     "text": [
      "+-+-+"
     ]
    }
   ],
   "source": [
    "# 1 - for 문을 반복할 때마다 if문을 수행하기 때문에 비효율적이다. \n",
    "def alternative (n) :\n",
    "    for i in range(n) : \n",
    "        if i % 2 == 0 :\n",
    "            print(\"+\", end = \"\")\n",
    "        else : \n",
    "            print(\"-\", end = \"\")\n",
    "            \n",
    "alternative(5)"
   ]
  },
  {
   "cell_type": "code",
   "execution_count": 11,
   "metadata": {},
   "outputs": [
    {
     "name": "stdout",
     "output_type": "stream",
     "text": [
      "+-+-+\n"
     ]
    }
   ],
   "source": [
    "# 2 - 2로 나눈 몫만큼 \"+-\"를 출력하고 나서 -> 마지막에 +를 출력할 건지 말건지를 결정해서 덧붙인다. \n",
    "def alternative (n) :\n",
    "    m = n // 2 # 몫을 구한다. \"+-\" 씩 출력한다. \n",
    "    print(\"+-\"*m, end=\"\")\n",
    "    \n",
    "    if n%2 :\n",
    "        print(\"+\")\n",
    "    else : \n",
    "        pass\n",
    "            \n",
    "alternative(5)"
   ]
  },
  {
   "cell_type": "code",
   "execution_count": 13,
   "metadata": {},
   "outputs": [
    {
     "name": "stdout",
     "output_type": "stream",
     "text": [
      "+-+-+"
     ]
    }
   ],
   "source": [
    "# \"+-\"반복을 문자열 연결이 아니라 range를 활용해서도 출력할 수 있다. \n",
    "def alternative (n) :\n",
    "    for _ in range(n//2) : \n",
    "        print(\"+-\", end=\"\")\n",
    "        \n",
    "    if n%2 :\n",
    "        print(\"+\", end=\"\")\n",
    "\n",
    "alternative(5)  "
   ]
  },
  {
   "cell_type": "markdown",
   "metadata": {},
   "source": [
    "## </br>"
   ]
  },
  {
   "cell_type": "markdown",
   "metadata": {},
   "source": [
    "# 문제 ) * 기호를 n개 출력하되 w개마다 줄바꿈"
   ]
  },
  {
   "cell_type": "code",
   "execution_count": 22,
   "metadata": {},
   "outputs": [
    {
     "name": "stdout",
     "output_type": "stream",
     "text": [
      "****\n",
      "****\n",
      "\n"
     ]
    }
   ],
   "source": [
    "def print_stars (n,w) :\n",
    "    \n",
    "    for _ in range(n//w) : \n",
    "        print(\"*\"*w, end=\"\\n\")\n",
    "    \n",
    "    print(\"*\"*(n%w)) # 이것은 나누어 떨어지는 경우에 마지막 줄에 빈 줄이 하나 생기기 때문에 틀린 방법이다.\n",
    "    \n",
    "print_stars(8,4)"
   ]
  },
  {
   "cell_type": "code",
   "execution_count": 29,
   "metadata": {},
   "outputs": [
    {
     "name": "stdout",
     "output_type": "stream",
     "text": [
      "****\n",
      "****\n",
      "\n",
      "\n",
      "****\n",
      "***\n"
     ]
    }
   ],
   "source": [
    "# 따라서 마지막 줄을 처리해주기 위한 if문이 필요하다. \n",
    "def print_stars (n,w) :\n",
    "    \n",
    "    for _ in range(n//w) : \n",
    "        print(\"*\"*w, end=\"\\n\")\n",
    "    \n",
    "    rest = n%w\n",
    "    if not rest : \n",
    "        pass\n",
    "    else : \n",
    "        print(\"*\"*(rest))\n",
    "    \n",
    "\n",
    "print_stars(8,4)\n",
    "print(\"\\n\")\n",
    "print_stars(7,4)"
   ]
  }
 ],
 "metadata": {
  "kernelspec": {
   "display_name": "Python 3",
   "language": "python",
   "name": "python3"
  },
  "language_info": {
   "codemirror_mode": {
    "name": "ipython",
    "version": 3
   },
   "file_extension": ".py",
   "mimetype": "text/x-python",
   "name": "python",
   "nbconvert_exporter": "python",
   "pygments_lexer": "ipython3",
   "version": "3.6.9"
  }
 },
 "nbformat": 4,
 "nbformat_minor": 4
}
