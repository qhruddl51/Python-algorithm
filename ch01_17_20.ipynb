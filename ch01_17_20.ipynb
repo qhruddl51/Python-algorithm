{
 "cells": [
  {
   "cell_type": "code",
   "execution_count": 1,
   "metadata": {},
   "outputs": [],
   "source": [
    "import collections\n",
    "import heapq\n",
    "import functools\n",
    "import itertools\n",
    "import re\n",
    "import sys\n",
    "import math\n",
    "import bisect\n",
    "from typing import *"
   ]
  },
  {
   "cell_type": "markdown",
   "metadata": {},
   "source": [
    "## 문제 ) 변의 길이가 자연수이고, 넓이가 area인 직사각형에서 가로X세로 조합을 모두 나열  "
   ]
  },
  {
   "cell_type": "code",
   "execution_count": 7,
   "metadata": {},
   "outputs": [],
   "source": [
    "def rectangle (area) : \n",
    "    for g in range(1,area+1) : \n",
    "        \n",
    "        if g*g > area : # 6x2 는 출력되지 않게 하기 위해 if 조건을 이렇게 넣어준다. \n",
    "            break\n",
    "        \n",
    "        if area%g==0 :\n",
    "            s=area//g\n",
    "            print(g,\" X \",s, end=\"\\n\")\n",
    "        else : \n",
    "            pass"
   ]
  },
  {
   "cell_type": "code",
   "execution_count": 8,
   "metadata": {},
   "outputs": [
    {
     "name": "stdout",
     "output_type": "stream",
     "text": [
      "1  X  12\n",
      "2  X  6\n",
      "3  X  4\n"
     ]
    }
   ],
   "source": [
    "rectangle(12) "
   ]
  },
  {
   "cell_type": "code",
   "execution_count": 9,
   "metadata": {},
   "outputs": [],
   "source": [
    "# 불린 연산으로 바꿀 수도 있다. \n",
    "# if-else pass 대신에 if-continue로 바꿀 수 있다. \n",
    "def rectangle (area) : \n",
    "    for g in range(1, area+1) :\n",
    "        \n",
    "        if g*g > area : \n",
    "            break # 반복문을 바로 완전히 빠져나온다. \n",
    "        \n",
    "        if area%g :\n",
    "            continue # 다음 루프로 넘어간다. \n",
    "        else : \n",
    "            s = area//g\n",
    "            print(g, \"X\", s, end = \"\\n\")"
   ]
  },
  {
   "cell_type": "code",
   "execution_count": 10,
   "metadata": {},
   "outputs": [
    {
     "name": "stdout",
     "output_type": "stream",
     "text": [
      "1 X 12\n",
      "2 X 6\n",
      "3 X 4\n"
     ]
    }
   ],
   "source": [
    "rectangle(12) "
   ]
  },
  {
   "cell_type": "markdown",
   "metadata": {},
   "source": [
    "## </br>"
   ]
  },
  {
   "cell_type": "markdown",
   "metadata": {},
   "source": [
    "# 문제 ) 10~99 사이의 난수 n개 생성하기 (13이 나오면 중단)"
   ]
  },
  {
   "cell_type": "code",
   "execution_count": 11,
   "metadata": {},
   "outputs": [
    {
     "name": "stdout",
     "output_type": "stream",
     "text": [
      "29 75 23 20 65 26 73 46 41 86 "
     ]
    }
   ],
   "source": [
    "import random\n",
    "\n",
    "def for_else (n) : \n",
    "    for _ in range(n) : \n",
    "        r = random.randint(10, 99)\n",
    "        print(r, end = \" \")\n",
    "    \n",
    "        if r == 13 :\n",
    "            print(\"13이 나와서 프로그램을 중단합니다.\")\n",
    "            break\n",
    "\n",
    "for_else(10)"
   ]
  },
  {
   "cell_type": "markdown",
   "metadata": {},
   "source": [
    "## </br>"
   ]
  },
  {
   "cell_type": "markdown",
   "metadata": {},
   "source": [
    "# 문제 ) 1~n까지 m을 건너뛰고 출력하기"
   ]
  },
  {
   "cell_type": "code",
   "execution_count": 16,
   "metadata": {},
   "outputs": [
    {
     "name": "stdout",
     "output_type": "stream",
     "text": [
      "1 2 3 4 5 6 7 9 10 11 12 "
     ]
    }
   ],
   "source": [
    "# 1 - 딱 한 숫자만 건너뛰기 위해서 if 조건 연산을 매번 해주어야 하기 때문에 비효율적\n",
    "def skip (n, m) :\n",
    "    for i in range(1, n+1) :\n",
    "        if i == m :\n",
    "            continue\n",
    "        else : \n",
    "            print(i, end=\" \")\n",
    "            \n",
    "skip(12, 8)"
   ]
  },
  {
   "cell_type": "code",
   "execution_count": 17,
   "metadata": {},
   "outputs": [
    {
     "name": "stdout",
     "output_type": "stream",
     "text": [
      "1 2 3 4 5 6 7 9 10 11 12 "
     ]
    }
   ],
   "source": [
    "# 2 - 두 리스트의 연결로 풀 수 있다. 하지만, 이것도 매번 요소를 꺼내야 하기 때문에 반복적이긴 하다. \n",
    "def skip (n, m) :\n",
    "    l = list(range(1,m)) + list(range(9,n+1))\n",
    "    for i in l :\n",
    "        print(i, end=\" \")\n",
    "\n",
    "skip(12, 8)"
   ]
  }
 ],
 "metadata": {
  "kernelspec": {
   "display_name": "Python 3",
   "language": "python",
   "name": "python3"
  },
  "language_info": {
   "codemirror_mode": {
    "name": "ipython",
    "version": 3
   },
   "file_extension": ".py",
   "mimetype": "text/x-python",
   "name": "python",
   "nbconvert_exporter": "python",
   "pygments_lexer": "ipython3",
   "version": "3.6.9"
  }
 },
 "nbformat": 4,
 "nbformat_minor": 4
}
