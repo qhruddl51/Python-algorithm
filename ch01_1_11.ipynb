{
 "cells": [
  {
   "cell_type": "code",
   "execution_count": 1,
   "metadata": {},
   "outputs": [],
   "source": [
    "import collections\n",
    "import heapq\n",
    "import functools\n",
    "import itertools\n",
    "import re\n",
    "import sys\n",
    "import math\n",
    "import bisect\n",
    "from typing import *"
   ]
  },
  {
   "cell_type": "code",
   "execution_count": 2,
   "metadata": {},
   "outputs": [],
   "source": [
    "# 세 정수 중 가장 큰 수를 반환\n",
    "def max_num(a, b, c) : \n",
    "    maximum = a\n",
    "    if maximum < b : \n",
    "        maximum = b\n",
    "    if maximum < c :\n",
    "        maximum = c\n",
    "        \n",
    "    return maximum"
   ]
  },
  {
   "cell_type": "code",
   "execution_count": 6,
   "metadata": {},
   "outputs": [
    {
     "data": {
      "text/plain": [
       "8"
      ]
     },
     "execution_count": 6,
     "metadata": {},
     "output_type": "execute_result"
    }
   ],
   "source": [
    "max(8,3,7)"
   ]
  },
  {
   "cell_type": "code",
   "execution_count": 7,
   "metadata": {},
   "outputs": [],
   "source": [
    "# 세 정수 중 중앙값을 반환\n",
    "def median_num (a, b, c) :\n",
    "    if a == b :\n",
    "        return a\n",
    "    elif a > b :\n",
    "        big = a\n",
    "        small = b\n",
    "    else : \n",
    "        big = b\n",
    "        small = a\n",
    "        \n",
    "    if c < small : \n",
    "        return small\n",
    "    elif c > big :\n",
    "        return big\n",
    "    else :\n",
    "        return c"
   ]
  },
  {
   "cell_type": "code",
   "execution_count": 11,
   "metadata": {},
   "outputs": [
    {
     "name": "stdout",
     "output_type": "stream",
     "text": [
      "5\n",
      "50\n"
     ]
    }
   ],
   "source": [
    "print(median_num(3,5,8))\n",
    "print(median_num(50,50,10))"
   ]
  },
  {
   "cell_type": "markdown",
   "metadata": {},
   "source": [
    "## </br>"
   ]
  },
  {
   "cell_type": "code",
   "execution_count": 15,
   "metadata": {},
   "outputs": [
    {
     "data": {
      "text/plain": [
       "15"
      ]
     },
     "execution_count": 15,
     "metadata": {},
     "output_type": "execute_result"
    }
   ],
   "source": [
    "# 1부터 num 까지의 정수의 합 구하기 - for문 사용\n",
    "def sum_function(num) : \n",
    "    sum_num = 0\n",
    "    for i in range(1,num+1):\n",
    "        sum_num += i\n",
    "    \n",
    "    return sum_num\n",
    "\n",
    "sum_function(5)"
   ]
  },
  {
   "cell_type": "code",
   "execution_count": 19,
   "metadata": {},
   "outputs": [
    {
     "name": "stdout",
     "output_type": "stream",
     "text": [
      "1부터 5까지 정수의 합은 15입니다.\n",
      "카운터 변수 i가 가지는 최종 값 :  6\n"
     ]
    }
   ],
   "source": [
    "# 1부터 num 까지의 정수의 합 구하기 - while문 활용\n",
    "def sum_function(num) : \n",
    "    sum_num = 0\n",
    "    i = 1\n",
    "    \n",
    "    while i <= num : \n",
    "        sum_num += i\n",
    "        i += 1\n",
    "    \n",
    "    print(f'1부터 {num}까지 정수의 합은 {sum_num}입니다.')\n",
    "    print('카운터 변수 i가 가지는 최종 값 : ', i)\n",
    "    \n",
    "sum_function(5)"
   ]
  },
  {
   "cell_type": "markdown",
   "metadata": {},
   "source": [
    "## </br>"
   ]
  },
  {
   "cell_type": "markdown",
   "metadata": {},
   "source": [
    "# a와 b사이의 연속하는 정수들의 모든 합"
   ]
  },
  {
   "cell_type": "code",
   "execution_count": 26,
   "metadata": {},
   "outputs": [
    {
     "name": "stdout",
     "output_type": "stream",
     "text": [
      "12\n",
      "14\n",
      "5\n"
     ]
    }
   ],
   "source": [
    "# 1\n",
    "def int_sum (a, b) :\n",
    "    sum = 0\n",
    "    \n",
    "    if a==b :\n",
    "        return a\n",
    "    \n",
    "    elif a<b :\n",
    "        for n in range(a, b+1) :\n",
    "            sum += n\n",
    "        return sum\n",
    "    \n",
    "    else : \n",
    "        for n in range(b, a+1) : \n",
    "            sum += n\n",
    "        return sum \n",
    "    \n",
    "    \n",
    "print(int_sum(3,5))\n",
    "print(int_sum(5,2))\n",
    "print(int_sum(5,5))"
   ]
  },
  {
   "cell_type": "code",
   "execution_count": 28,
   "metadata": {},
   "outputs": [
    {
     "name": "stdout",
     "output_type": "stream",
     "text": [
      "12\n",
      "14\n",
      "5\n"
     ]
    }
   ],
   "source": [
    "# 2 - 코드가 중복되므로 다음과 같이 바꾸면 더 좋다.!!!!!!!!\n",
    "def int_sum (a, b) :\n",
    "    \n",
    "    if a == b :\n",
    "        return a\n",
    "    \n",
    "    if a > b :\n",
    "        a, b = b, a # a와 b를 오름차순으로 정렬 !!!!!!!!!!!!!!!\n",
    "    \n",
    "    sum = 0\n",
    "    for n in range(a, b+1) :\n",
    "        sum += n\n",
    "    return sum\n",
    "\n",
    "    \n",
    "print(int_sum(3,5))\n",
    "print(int_sum(5,2))\n",
    "print(int_sum(5,5))"
   ]
  },
  {
   "cell_type": "markdown",
   "metadata": {},
   "source": [
    "## 계산 과정도 모두 출력한다면?"
   ]
  },
  {
   "cell_type": "code",
   "execution_count": 30,
   "metadata": {},
   "outputs": [
    {
     "name": "stdout",
     "output_type": "stream",
     "text": [
      "5 + 6 + 7 + 8 + 9 + 10 = 45\n"
     ]
    }
   ],
   "source": [
    "# 1\n",
    "def int_sum (a, b) : \n",
    "    if a > b : \n",
    "        b, a = a, b\n",
    "    \n",
    "    sum = 0\n",
    "    for n in range(a, b+1) : \n",
    "        if n == b :\n",
    "            print(f'{n} =', end=\" \")\n",
    "        else : \n",
    "            print(f'{n} +', end=\" \")\n",
    "        sum += n\n",
    "        \n",
    "    print(sum)\n",
    "    \n",
    "int_sum(10, 5)"
   ]
  },
  {
   "cell_type": "code",
   "execution_count": 33,
   "metadata": {},
   "outputs": [
    {
     "name": "stdout",
     "output_type": "stream",
     "text": [
      "5 + 6 + 7 + 8 + 9 + 10 =  45\n"
     ]
    }
   ],
   "source": [
    "# 2\n",
    "# 마지막 루프를 위해 모든 루프에서 조건문을 판단하는 것은 비효율적이므로 다음과 같이 바꾸는 것이 더 좋다.\n",
    "def int_sum(a, b) : \n",
    "    if a > b :\n",
    "        b, a = a, b\n",
    "    \n",
    "    sum = 0 \n",
    "    for n in range(a, b) :\n",
    "        print(f'{n} +', end = \" \")\n",
    "        sum += n\n",
    "    \n",
    "    sum += b\n",
    "    print(f'{b} = ', sum)\n",
    "    \n",
    "int_sum(10, 5)"
   ]
  }
 ],
 "metadata": {
  "kernelspec": {
   "display_name": "Python 3",
   "language": "python",
   "name": "python3"
  },
  "language_info": {
   "codemirror_mode": {
    "name": "ipython",
    "version": 3
   },
   "file_extension": ".py",
   "mimetype": "text/x-python",
   "name": "python",
   "nbconvert_exporter": "python",
   "pygments_lexer": "ipython3",
   "version": "3.6.9"
  }
 },
 "nbformat": 4,
 "nbformat_minor": 4
}
