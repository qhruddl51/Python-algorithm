{
 "cells": [
  {
   "cell_type": "code",
   "execution_count": 1,
   "metadata": {},
   "outputs": [],
   "source": [
    "import collections\n",
    "import heapq\n",
    "import functools\n",
    "import itertools\n",
    "import re\n",
    "import sys\n",
    "import math\n",
    "import bisect\n",
    "from typing import *"
   ]
  },
  {
   "cell_type": "markdown",
   "metadata": {},
   "source": [
    "## </br>"
   ]
  },
  {
   "cell_type": "markdown",
   "metadata": {},
   "source": [
    "# 문제 ) 구구단 곱셈표 출력하기"
   ]
  },
  {
   "cell_type": "code",
   "execution_count": 26,
   "metadata": {},
   "outputs": [
    {
     "name": "stdout",
     "output_type": "stream",
     "text": [
      "< 2 단 >\n",
      "  2   4   6   8  10  12  14  16  18 \n",
      "< 3 단 >\n",
      "  3   6   9  12  15  18  21  24  27 \n",
      "< 4 단 >\n",
      "  4   8  12  16  20  24  28  32  36 \n",
      "< 5 단 >\n",
      "  5  10  15  20  25  30  35  40  45 \n",
      "< 6 단 >\n",
      "  6  12  18  24  30  36  42  48  54 \n",
      "< 7 단 >\n",
      "  7  14  21  28  35  42  49  56  63 \n",
      "< 8 단 >\n",
      "  8  16  24  32  40  48  56  64  72 \n",
      "< 9 단 >\n",
      "  9  18  27  36  45  54  63  72  81 \n"
     ]
    }
   ],
   "source": [
    "for dan in range(2,10):\n",
    "    print(\"<\", dan, \"단 >\")\n",
    "    \n",
    "    for i in range(1,10):\n",
    "        print(f'{i*dan : 3}', end = \" \") # 포매팅 - 가지런히 출력하기 위해 3자리로 맞춰줌\n",
    "        \n",
    "    print(\"\") # 행변경"
   ]
  },
  {
   "cell_type": "markdown",
   "metadata": {},
   "source": [
    "## </br>"
   ]
  },
  {
   "cell_type": "markdown",
   "metadata": {},
   "source": [
    "# 문제 ) * 기호를 1개부터 n개까지 줄바꿈하면서  출력"
   ]
  },
  {
   "cell_type": "code",
   "execution_count": 28,
   "metadata": {},
   "outputs": [
    {
     "name": "stdout",
     "output_type": "stream",
     "text": [
      "*\n",
      "**\n",
      "***\n",
      "****\n",
      "*****\n"
     ]
    }
   ],
   "source": [
    "# 1 - 문자열 연산을 이용하는 방법\n",
    "def triangle (n) :\n",
    "    for i in range(1,n) :\n",
    "        print('*'*i, end = \"\\n\")\n",
    "    \n",
    "    print('*'*n)\n",
    "\n",
    "\n",
    "triangle(5)"
   ]
  },
  {
   "cell_type": "code",
   "execution_count": 36,
   "metadata": {},
   "outputs": [
    {
     "name": "stdout",
     "output_type": "stream",
     "text": [
      "*\n",
      "**\n",
      "***\n",
      "****\n",
      "*****\n"
     ]
    }
   ],
   "source": [
    "# range() 를 하나 더 써서 *을 하나씩 출력하는 방법\n",
    "def triangle (n) :\n",
    "    for i in range(1,n+1) :\n",
    "        \n",
    "        for _ in range (1,i+1) :\n",
    "            print(\"*\", end = \"\")\n",
    "            pass # inner for\n",
    "        \n",
    "        print() # 줄바꿈 - print(\"\\n\")과는 다르다.\n",
    "        pass # outer for \n",
    "\n",
    "\n",
    "triangle(5)"
   ]
  },
  {
   "cell_type": "markdown",
   "metadata": {},
   "source": [
    "## </br>"
   ]
  },
  {
   "cell_type": "markdown",
   "metadata": {},
   "source": [
    "## 문제 ) 오른쪽 아래 모서리가 직각인 삼각형을 *을 이용해 출력, 아래 변의 *의 개수는 n개"
   ]
  },
  {
   "cell_type": "code",
   "execution_count": 44,
   "metadata": {},
   "outputs": [
    {
     "name": "stdout",
     "output_type": "stream",
     "text": [
      "    *\n",
      "   **\n",
      "  ***\n",
      " ****\n",
      "*****\n"
     ]
    }
   ],
   "source": [
    "def triangle (n) :\n",
    "    for i in range(1,n+1) :\n",
    "        print(\" \"*(n-i), end=\"\")\n",
    "        print(\"*\"*i, end=\"\")\n",
    "        print()\n",
    "        pass # outer for\n",
    "    \n",
    "    \n",
    "triangle(5)"
   ]
  },
  {
   "cell_type": "code",
   "execution_count": 43,
   "metadata": {},
   "outputs": [
    {
     "name": "stdout",
     "output_type": "stream",
     "text": [
      "    *\n",
      "   **\n",
      "  ***\n",
      " ****\n",
      "*****\n"
     ]
    }
   ],
   "source": [
    "def triangle (n) :\n",
    "    for i in range(1,n+1) :\n",
    "        for _ in range(1,n-i+1):\n",
    "            print(\" \", end=\"\")\n",
    "        \n",
    "        for _ in range(1,i+1) :\n",
    "            print(\"*\", end=\"\")\n",
    "            pass # inner for\n",
    "        \n",
    "        print()\n",
    "        pass # outer for\n",
    "    \n",
    "    \n",
    "triangle(5)"
   ]
  }
 ],
 "metadata": {
  "kernelspec": {
   "display_name": "Python 3",
   "language": "python",
   "name": "python3"
  },
  "language_info": {
   "codemirror_mode": {
    "name": "ipython",
    "version": 3
   },
   "file_extension": ".py",
   "mimetype": "text/x-python",
   "name": "python",
   "nbconvert_exporter": "python",
   "pygments_lexer": "ipython3",
   "version": "3.6.9"
  }
 },
 "nbformat": 4,
 "nbformat_minor": 4
}
