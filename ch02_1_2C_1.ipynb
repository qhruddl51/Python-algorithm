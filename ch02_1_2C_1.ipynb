{
 "cells": [
  {
   "cell_type": "code",
   "execution_count": 1,
   "metadata": {},
   "outputs": [],
   "source": [
    "import collections\n",
    "import heapq\n",
    "import functools\n",
    "import itertools\n",
    "import re\n",
    "import sys\n",
    "import math\n",
    "import bisect\n",
    "from typing import *"
   ]
  },
  {
   "cell_type": "code",
   "execution_count": 2,
   "metadata": {},
   "outputs": [
    {
     "data": {
      "text/plain": [
       "1"
      ]
     },
     "execution_count": 2,
     "metadata": {},
     "output_type": "execute_result"
    }
   ],
   "source": [
    "a,b,c = [1,2,3]\n",
    "a"
   ]
  },
  {
   "cell_type": "code",
   "execution_count": 3,
   "metadata": {},
   "outputs": [
    {
     "data": {
      "text/plain": [
       "int"
      ]
     },
     "execution_count": 3,
     "metadata": {},
     "output_type": "execute_result"
    }
   ],
   "source": [
    "type(a)"
   ]
  },
  {
   "cell_type": "code",
   "execution_count": 4,
   "metadata": {},
   "outputs": [
    {
     "data": {
      "text/plain": [
       "False"
      ]
     },
     "execution_count": 4,
     "metadata": {},
     "output_type": "execute_result"
    }
   ],
   "source": [
    "[5,5,5]<[1,1,1,1]"
   ]
  },
  {
   "cell_type": "markdown",
   "metadata": {},
   "source": [
    "# 문제 ) 배열의 최댓값 출력하기"
   ]
  },
  {
   "cell_type": "markdown",
   "metadata": {},
   "source": [
    "### 02-4. 최솟값과 최댓값은 직접 지정하고 나머지는 난수를 발생시켜 만든 길이가 n인 배열에서 최댓값을 출력"
   ]
  },
  {
   "cell_type": "code",
   "execution_count": 9,
   "metadata": {},
   "outputs": [
    {
     "name": "stdout",
     "output_type": "stream",
     "text": [
      "길이가 5인 난수 배열([6, 9, 8, 8, 9])의 최댓값은 9입니다.\n"
     ]
    }
   ],
   "source": [
    "import random \n",
    "from typing import Any, Sequence\n",
    "\n",
    "# function\n",
    "def max_of(a: Sequence)-> Any : \n",
    "    maximum = a[0]\n",
    "    \n",
    "    for i in range(1, len(a)) :\n",
    "        if a[i] > maximum : \n",
    "            maximum = a[i]\n",
    "            \n",
    "    return maximum\n",
    "\n",
    "def max_of_randint (n,low, high) :\n",
    "    x = [None]*n\n",
    "    \n",
    "    for i in range(n):\n",
    "        x[i] = random.randint(low, high)\n",
    "        pass # for\n",
    "    \n",
    "    print(f'길이가 {n}인 난수 배열({x})의 최댓값은 {max_of(x)}입니다.')\n",
    "    \n",
    "\n",
    "max_of_randint(5,5,10)"
   ]
  },
  {
   "cell_type": "markdown",
   "metadata": {},
   "source": [
    "### 02-5. 튜플, 문자열, 문자열 리스트의 최댓값을 출력"
   ]
  },
  {
   "cell_type": "code",
   "execution_count": 10,
   "metadata": {},
   "outputs": [],
   "source": [
    "def max_of_array (t, s, sl) :\n",
    "    print(\"튜플의 최댓값 : \", max_of(t))\n",
    "    print(\"문자열의 최댓값 : \" , max_of(s))\n",
    "    print(\"문자열 리스트의 최댓값 : \", max_of(sl))"
   ]
  },
  {
   "cell_type": "code",
   "execution_count": 12,
   "metadata": {},
   "outputs": [
    {
     "name": "stdout",
     "output_type": "stream",
     "text": [
      "튜플의 최댓값 :  7\n",
      "문자열의 최댓값 :  k\n",
      "문자열 리스트의 최댓값 :  dfd\n"
     ]
    }
   ],
   "source": [
    "max_of_array((6,7,5,7,3), \"abkc9\", [\"cdf\",\"dfd\", \"asdf\"])"
   ]
  },
  {
   "cell_type": "markdown",
   "metadata": {},
   "source": [
    "# </br>"
   ]
  },
  {
   "cell_type": "markdown",
   "metadata": {},
   "source": [
    "# 문제 ) 배열 스캔"
   ]
  },
  {
   "cell_type": "markdown",
   "metadata": {},
   "source": [
    "### 2C-1. 원소의 수를 len()로 알아내서 원소 수-1 까지 반복문을 돌린다."
   ]
  },
  {
   "cell_type": "code",
   "execution_count": 14,
   "metadata": {},
   "outputs": [
    {
     "name": "stdout",
     "output_type": "stream",
     "text": [
      "ar[0] = 5\n",
      "ar[1] = 5\n",
      "ar[2] = 5\n",
      "ar[3] = 7\n",
      "ar[4] = 3\n",
      "ar[5] = 51\n",
      "ar[6] = 6\n",
      "ar[7] = 1\n",
      "ar[8] = 9\n",
      "ar[9] = 4\n",
      "ar[10] = 45\n"
     ]
    }
   ],
   "source": [
    "array = [5,5,5,7,3,51,6,1,9,4,45]\n",
    "\n",
    "def scan_array (ar) :\n",
    "    for i in range(len(ar)) :\n",
    "        print(f'ar[{i}] = {ar[i]}')\n",
    "        pass # for\n",
    "\n",
    "scan_array(array)"
   ]
  },
  {
   "cell_type": "markdown",
   "metadata": {},
   "source": [
    "### 2C-2. enumerate() 이용"
   ]
  },
  {
   "cell_type": "code",
   "execution_count": 16,
   "metadata": {},
   "outputs": [
    {
     "name": "stdout",
     "output_type": "stream",
     "text": [
      "ar[0] = 5\n",
      "ar[1] = 5\n",
      "ar[2] = 5\n",
      "ar[3] = 7\n",
      "ar[4] = 3\n",
      "ar[5] = 51\n",
      "ar[6] = 6\n",
      "ar[7] = 1\n",
      "ar[8] = 9\n",
      "ar[9] = 4\n",
      "ar[10] = 45\n"
     ]
    }
   ],
   "source": [
    "def scan_array (ar) :\n",
    "    for i, val in enumerate(ar) :\n",
    "        print(f'ar[{i}] = {val}')\n",
    "        pass # for\n",
    "\n",
    "scan_array(array)"
   ]
  },
  {
   "cell_type": "markdown",
   "metadata": {},
   "source": [
    "### 2C-3. enumerate()를 이용하되 1부터 카운트"
   ]
  },
  {
   "cell_type": "code",
   "execution_count": 19,
   "metadata": {},
   "outputs": [
    {
     "name": "stdout",
     "output_type": "stream",
     "text": [
      "1번째 원소 : 5\n",
      "2번째 원소 : 5\n",
      "3번째 원소 : 5\n",
      "4번째 원소 : 7\n",
      "5번째 원소 : 3\n",
      "6번째 원소 : 51\n",
      "7번째 원소 : 6\n",
      "8번째 원소 : 1\n",
      "9번째 원소 : 9\n",
      "10번째 원소 : 4\n",
      "11번째 원소 : 45\n"
     ]
    }
   ],
   "source": [
    "def scan_array (ar) :\n",
    "    for i, val in enumerate(ar, 1) :\n",
    "        print(f'{i}번째 원소 : {val}')\n",
    "        pass # for\n",
    "\n",
    "scan_array(array)"
   ]
  },
  {
   "cell_type": "markdown",
   "metadata": {},
   "source": [
    "### 2C-4. 인덱스 값을 사용하지 않고 원소만 순서대로 꺼낸다."
   ]
  },
  {
   "cell_type": "code",
   "execution_count": 21,
   "metadata": {},
   "outputs": [
    {
     "name": "stdout",
     "output_type": "stream",
     "text": [
      "5  5  5  7  3  51  6  1  9  4  45  "
     ]
    }
   ],
   "source": [
    "for i in array : \n",
    "    print(i, end=\"  \")"
   ]
  }
 ],
 "metadata": {
  "kernelspec": {
   "display_name": "Python 3",
   "language": "python",
   "name": "python3"
  },
  "language_info": {
   "codemirror_mode": {
    "name": "ipython",
    "version": 3
   },
   "file_extension": ".py",
   "mimetype": "text/x-python",
   "name": "python",
   "nbconvert_exporter": "python",
   "pygments_lexer": "ipython3",
   "version": "3.6.9"
  }
 },
 "nbformat": 4,
 "nbformat_minor": 4
}
