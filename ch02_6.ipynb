{
 "cells": [
  {
   "cell_type": "code",
   "execution_count": 1,
   "metadata": {},
   "outputs": [],
   "source": [
    "import collections\n",
    "import heapq\n",
    "import functools\n",
    "import itertools\n",
    "import re\n",
    "import sys\n",
    "import math\n",
    "import bisect\n",
    "from typing import *"
   ]
  },
  {
   "cell_type": "markdown",
   "metadata": {},
   "source": [
    "# 문제 ) 배열 원소를 역순으로 뒤집기 "
   ]
  },
  {
   "cell_type": "code",
   "execution_count": 13,
   "metadata": {},
   "outputs": [
    {
     "name": "stdout",
     "output_type": "stream",
     "text": [
      "입력한 배열을 역순으로 바꿉니다.\n",
      "뒤집힌 배열 :  [5, 4, 3, 2, 1]\n"
     ]
    }
   ],
   "source": [
    "def reverse_array (ar) :\n",
    "    print(\"입력한 배열을 역순으로 바꿉니다.\")\n",
    "    length = len(ar)\n",
    "    m = length//2\n",
    "\n",
    "    for i in range(0, m+1) :\n",
    "        ar[i] , ar[length-1-i] = ar[length-1-i], ar[i]\n",
    "        pass # for\n",
    "    \n",
    "    print(\"뒤집힌 배열 : \",ar)\n",
    "\n",
    "\n",
    "array = [1,2,3,4,5]\n",
    "reverse_array(array)"
   ]
  },
  {
   "cell_type": "markdown",
   "metadata": {},
   "source": [
    "### (cf) 리스트의 reverse 메서드, reversed 내장 함수"
   ]
  },
  {
   "cell_type": "code",
   "execution_count": 18,
   "metadata": {},
   "outputs": [
    {
     "name": "stdout",
     "output_type": "stream",
     "text": [
      "원래 리스트 :  [1, 2, 3, 4, 5]\n",
      "뒤집힌 리스트 :  [5, 4, 3, 2, 1]\n"
     ]
    }
   ],
   "source": [
    "array = [1,2,3,4,5]\n",
    "print(\"원래 리스트 : \",array)\n",
    "array.reverse()\n",
    "print(\"뒤집힌 리스트 : \", array)"
   ]
  },
  {
   "cell_type": "code",
   "execution_count": 24,
   "metadata": {},
   "outputs": [
    {
     "name": "stdout",
     "output_type": "stream",
     "text": [
      "<list_reverseiterator object at 0x7f26303ecd30>\n"
     ]
    },
    {
     "data": {
      "text/plain": [
       "[5, 4, 3, 2, 1]"
      ]
     },
     "execution_count": 24,
     "metadata": {},
     "output_type": "execute_result"
    }
   ],
   "source": [
    "array = [1,2,3,4,5]\n",
    "reversed_array = reversed(array)\n",
    "print(reversed_array) # 배열의 원소를 역순으로 꺼내는 이터레이터(반복자)를 반환한다. \n",
    "list(reversed_array) # 리스트 함수를 통과시켜줘야 리스트가 된다. "
   ]
  }
 ],
 "metadata": {
  "kernelspec": {
   "display_name": "Python 3",
   "language": "python",
   "name": "python3"
  },
  "language_info": {
   "codemirror_mode": {
    "name": "ipython",
    "version": 3
   },
   "file_extension": ".py",
   "mimetype": "text/x-python",
   "name": "python",
   "nbconvert_exporter": "python",
   "pygments_lexer": "ipython3",
   "version": "3.6.9"
  }
 },
 "nbformat": 4,
 "nbformat_minor": 4
}
