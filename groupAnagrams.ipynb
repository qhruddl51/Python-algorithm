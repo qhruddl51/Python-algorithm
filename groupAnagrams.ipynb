{
 "cells": [
  {
   "cell_type": "markdown",
   "metadata": {},
   "source": [
    "# <문제>\n",
    "- 문자열 배열을 받아 애너그램 단위로 그루핑하라.\n",
    "- 그루핑되는 순서는 상관 없음"
   ]
  },
  {
   "cell_type": "markdown",
   "metadata": {},
   "source": [
    "# collections 모듈\n",
    "# 1. defaultdict\n",
    "존재하지 않는 키를 조회할 경우, 바로 에러 메세지를 출력하는 대신 디폴트 값(0/None)을 기준으로 해당키에 대한 딕셔너리 아이템을 생성해준다.\n",
    "- 그냥 딕트 대신 이걸 쓰면 오류도 방지하고 좋을 수 있다. \n",
    "- 참고 ) https://wotres.tistory.com/entry/defaultdict-%EC%82%AC%EC%9A%A9%EB%B2%95"
   ]
  },
  {
   "cell_type": "code",
   "execution_count": 3,
   "metadata": {},
   "outputs": [],
   "source": [
    "import collections\n",
    "import heapq\n",
    "import functools\n",
    "import itertools\n",
    "import re\n",
    "import sys\n",
    "import math\n",
    "import bisect\n",
    "from typing import *"
   ]
  },
  {
   "cell_type": "code",
   "execution_count": 5,
   "metadata": {},
   "outputs": [
    {
     "name": "stdout",
     "output_type": "stream",
     "text": [
      "defaultdict(<class 'int'>, {'A': 5, 'B': 3})\n",
      "0\n",
      "defaultdict(<class 'int'>, {'A': 5, 'B': 3, 'C': 0})\n"
     ]
    }
   ],
   "source": [
    "a = collections.defaultdict(int) # 밸류의 타입이 int일 경우 디폴트는 0\n",
    "a[\"A\"] = 5\n",
    "a[\"B\"] = 3\n",
    "print(a)\n",
    "print(a['C']) # 그냥 호출(조회)하는 순간 딕트에 추가가 된다!\n",
    "print(a) "
   ]
  },
  {
   "cell_type": "code",
   "execution_count": 7,
   "metadata": {},
   "outputs": [
    {
     "name": "stdout",
     "output_type": "stream",
     "text": [
      "defaultdict(<class 'str'>, {'A': '가', 'B': '나'})\n",
      "\n",
      "defaultdict(<class 'str'>, {'A': '가', 'B': '나', 'C': ''})\n"
     ]
    }
   ],
   "source": [
    "a = collections.defaultdict(str) # 밸류의 타입이 str일 경우 디폴트는 공란(\"\")\n",
    "a[\"A\"] = \"가\"\n",
    "a[\"B\"] = \"나\"\n",
    "print(a)\n",
    "print(a['C']) # 그냥 호출(조회)하는 순간 딕트에 추가가 된다!\n",
    "print(a)"
   ]
  },
  {
   "cell_type": "markdown",
   "metadata": {},
   "source": [
    "# 2. OrderedDict\n",
    "- 입력된 순서가 유지/보장되는 딕셔너리\n",
    "- 마치 리스트 안에 (키,밸류) 튜플들이 들어있는 것 같다."
   ]
  },
  {
   "cell_type": "code",
   "execution_count": 9,
   "metadata": {},
   "outputs": [
    {
     "data": {
      "text/plain": [
       "OrderedDict([('a', 5), ('b', 4), ('c', 2)])"
      ]
     },
     "execution_count": 9,
     "metadata": {},
     "output_type": "execute_result"
    }
   ],
   "source": [
    "od = collections.OrderedDict({'a':5, \"b\":4, \"c\":2})\n",
    "od"
   ]
  },
  {
   "cell_type": "code",
   "execution_count": 18,
   "metadata": {},
   "outputs": [
    {
     "name": "stdout",
     "output_type": "stream",
     "text": [
      "5\n"
     ]
    },
    {
     "ename": "KeyError",
     "evalue": "0",
     "output_type": "error",
     "traceback": [
      "\u001b[0;31m---------------------------------------------------------------------------\u001b[0m",
      "\u001b[0;31mKeyError\u001b[0m                                  Traceback (most recent call last)",
      "\u001b[0;32m<ipython-input-18-36b05be90ef5>\u001b[0m in \u001b[0;36m<module>\u001b[0;34m\u001b[0m\n\u001b[1;32m      1\u001b[0m \u001b[0mprint\u001b[0m\u001b[0;34m(\u001b[0m\u001b[0mod\u001b[0m\u001b[0;34m[\u001b[0m\u001b[0;34m'a'\u001b[0m\u001b[0;34m]\u001b[0m\u001b[0;34m)\u001b[0m\u001b[0;34m\u001b[0m\u001b[0;34m\u001b[0m\u001b[0m\n\u001b[0;32m----> 2\u001b[0;31m \u001b[0mod\u001b[0m\u001b[0;34m[\u001b[0m\u001b[0;36m0\u001b[0m\u001b[0;34m]\u001b[0m \u001b[0;31m# 그러나 인덱스번호로 추출은 안된다! 키값으로 추출해야!\u001b[0m\u001b[0;34m\u001b[0m\u001b[0;34m\u001b[0m\u001b[0m\n\u001b[0m",
      "\u001b[0;31mKeyError\u001b[0m: 0"
     ]
    }
   ],
   "source": [
    "print(od['a'])\n",
    "od[0] # 그러나 인덱스번호로 추출은 안된다! 키값으로 추출해야!"
   ]
  },
  {
   "cell_type": "code",
   "execution_count": 24,
   "metadata": {},
   "outputs": [
    {
     "data": {
      "text/plain": [
       "odict_values([5, 4, 2])"
      ]
     },
     "execution_count": 24,
     "metadata": {},
     "output_type": "execute_result"
    }
   ],
   "source": [
    "od.values() # odict_values타입을 리턴! 모양은 리스트에 밸류들 넣어서 주는 느낌"
   ]
  },
  {
   "cell_type": "code",
   "execution_count": 33,
   "metadata": {},
   "outputs": [
    {
     "name": "stdout",
     "output_type": "stream",
     "text": [
      "odict_keys(['a', 'b', 'c'])\n"
     ]
    },
    {
     "data": {
      "text/plain": [
       "odict_keys"
      ]
     },
     "execution_count": 33,
     "metadata": {},
     "output_type": "execute_result"
    }
   ],
   "source": [
    "print(od.keys())\n",
    "type(od.keys()) # odict_keys타입을 리턴! 모양은 리스트에 키들 넣어서 주는 느낌\n",
    "# odict_keys -> 타입지정할 때 List로 쓴다"
   ]
  },
  {
   "cell_type": "markdown",
   "metadata": {},
   "source": [
    "# 자, 문제를 풀어보자"
   ]
  },
  {
   "cell_type": "markdown",
   "metadata": {},
   "source": [
    "# 방법 1 ) 정렬하여 딕셔너리에 추가"
   ]
  },
  {
   "cell_type": "code",
   "execution_count": 51,
   "metadata": {},
   "outputs": [],
   "source": [
    "strs1 = [\"eat\",\"tea\",\"tan\", \"ate\",\"nat\",\"bat\"]"
   ]
  },
  {
   "cell_type": "code",
   "execution_count": 52,
   "metadata": {},
   "outputs": [],
   "source": [
    "def anagram_function (strs : List[str]) -> List[List[str]] :\n",
    "    # 밸류를 리스트로 가지는 딕트객체 생성\n",
    "    anagrams_dict = collections.defaultdict(list)\n",
    "    \n",
    "    for str in strs :\n",
    "        anagrams_dict[\"\".join(sorted(str))].append(str)\n",
    "\n",
    "    return anagrams_dict.values()"
   ]
  },
  {
   "cell_type": "code",
   "execution_count": 53,
   "metadata": {},
   "outputs": [
    {
     "data": {
      "text/plain": [
       "dict_values([['eat', 'tea', 'ate'], ['tan', 'nat'], ['bat']])"
      ]
     },
     "execution_count": 53,
     "metadata": {},
     "output_type": "execute_result"
    }
   ],
   "source": [
    "anagram_function(strs = strs1)"
   ]
  },
  {
   "cell_type": "markdown",
   "metadata": {},
   "source": [
    "# cf) split과 join\n",
    "- 문자열.split(\"구분기호\") : 구분기호를 기준으로 문자열을 나눠서 리스트로 만들어줌\n",
    "- \"구분기호\".join(리스트) : 리스트안의 요소들을 구분기호를 끼워서 문자열 하나로 만들어줌"
   ]
  },
  {
   "cell_type": "markdown",
   "metadata": {},
   "source": [
    "## < 추가 문제 >\n",
    "[\"abc\", \"cfc\", \"cde\"] 리스트를 첫번째문자와 마지막 문자를 기준으로 정렬하라."
   ]
  },
  {
   "cell_type": "code",
   "execution_count": 58,
   "metadata": {},
   "outputs": [
    {
     "data": {
      "text/plain": [
       "['abc', 'cfc', 'cde']"
      ]
     },
     "execution_count": 58,
     "metadata": {},
     "output_type": "execute_result"
    }
   ],
   "source": [
    "str_list = [\"abc\", \"cfc\", \"cde\"]\n",
    "\n",
    "# 방법 1 ) 람다식을 이용한 sorted\n",
    "sorted(str_list, reverse=False, key = lambda x : (x[0], x[-1]))"
   ]
  },
  {
   "cell_type": "code",
   "execution_count": 59,
   "metadata": {},
   "outputs": [
    {
     "data": {
      "text/plain": [
       "['abc', 'cfc', 'cde']"
      ]
     },
     "execution_count": 59,
     "metadata": {},
     "output_type": "execute_result"
    }
   ],
   "source": [
    "# 방법 1 ) 따로 정의한 함수를 이용한 sorted\n",
    "def key_function (word : str) -> str :\n",
    "    return word[0], word[-1]\n",
    "\n",
    "sorted(str_list, key = key_function, reverse = False)"
   ]
  }
 ],
 "metadata": {
  "kernelspec": {
   "display_name": "Python 3",
   "language": "python",
   "name": "python3"
  },
  "language_info": {
   "codemirror_mode": {
    "name": "ipython",
    "version": 3
   },
   "file_extension": ".py",
   "mimetype": "text/x-python",
   "name": "python",
   "nbconvert_exporter": "python",
   "pygments_lexer": "ipython3",
   "version": "3.6.9"
  }
 },
 "nbformat": 4,
 "nbformat_minor": 4
}
