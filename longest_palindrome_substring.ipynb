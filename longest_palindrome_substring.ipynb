{
 "cells": [
  {
   "cell_type": "code",
   "execution_count": 10,
   "metadata": {},
   "outputs": [],
   "source": [
    "import collections\n",
    "import heapq\n",
    "import functools\n",
    "import itertools\n",
    "import re\n",
    "import sys\n",
    "import math\n",
    "import bisect\n",
    "from typing import *"
   ]
  },
  {
   "cell_type": "markdown",
   "metadata": {},
   "source": [
    "# <문제>\n",
    "- 가장 긴 팰린드롬 부분 문자열을 출력하라. \n",
    "- 입력 : \"babad\" -> 출력 : \"bab\""
   ]
  },
  {
   "cell_type": "markdown",
   "metadata": {},
   "source": [
    "# 방법 1) 중앙을 중심으로 확장하는 풀이"
   ]
  },
  {
   "cell_type": "code",
   "execution_count": 11,
   "metadata": {},
   "outputs": [],
   "source": [
    "def longestPalindrome(s:str) -> str :\n",
    "    # 해당 사항이 없을 때는 빠르게 문자열 리턴\n",
    "    if len(s)<2 or s == s[::-1] :\n",
    "        return s\n",
    "    \n",
    "    # 팰린드롬 판별해서 팰린드롬문자열을 인덱싱으로 추출\n",
    "    def expand (left: int, right : int) -> str :\n",
    "        while left >=0 and right < len(s) and s[left] == s[right] :\n",
    "            left -= 1\n",
    "            right += 1\n",
    "        return s[left+1 : right]\n",
    "    \n",
    "    result = \"\"\n",
    "    \n",
    "    for i in range(len(s)-2) :\n",
    "        result = max(result, expand(i,i+1), expand(i,i+2), key=len)\n",
    "    return result"
   ]
  },
  {
   "cell_type": "code",
   "execution_count": 12,
   "metadata": {},
   "outputs": [
    {
     "data": {
      "text/plain": [
       "'adfadfadfasdf'"
      ]
     },
     "execution_count": 12,
     "metadata": {},
     "output_type": "execute_result"
    }
   ],
   "source": [
    "a = \"dfsf\"\n",
    "b = \"sfadfaf\"\n",
    "c = \"adfadfadfasdf\"\n",
    "\n",
    "max(a,b,c, key = len) # 문자열 a/b/c중 가장 len(str)값이 큰 것을 돌려줌!"
   ]
  },
  {
   "cell_type": "code",
   "execution_count": 16,
   "metadata": {},
   "outputs": [
    {
     "data": {
      "text/plain": [
       "'bab'"
      ]
     },
     "execution_count": 16,
     "metadata": {},
     "output_type": "execute_result"
    }
   ],
   "source": [
    "longestPalindrome(\"babad\")"
   ]
  },
  {
   "cell_type": "code",
   "execution_count": 14,
   "metadata": {},
   "outputs": [
    {
     "data": {
      "text/plain": [
       "'456654'"
      ]
     },
     "execution_count": 14,
     "metadata": {},
     "output_type": "execute_result"
    }
   ],
   "source": [
    "longestPalindrome(s=\"123abacc456654\")"
   ]
  },
  {
   "cell_type": "code",
   "execution_count": null,
   "metadata": {},
   "outputs": [],
   "source": []
  }
 ],
 "metadata": {
  "kernelspec": {
   "display_name": "Python 3",
   "language": "python",
   "name": "python3"
  },
  "language_info": {
   "codemirror_mode": {
    "name": "ipython",
    "version": 3
   },
   "file_extension": ".py",
   "mimetype": "text/x-python",
   "name": "python",
   "nbconvert_exporter": "python",
   "pygments_lexer": "ipython3",
   "version": "3.6.9"
  }
 },
 "nbformat": 4,
 "nbformat_minor": 4
}
