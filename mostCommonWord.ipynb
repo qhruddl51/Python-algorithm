{
 "cells": [
  {
   "cell_type": "markdown",
   "metadata": {},
   "source": [
    "## <문제>\n",
    "- 금지된 단어를 제외한 가장 흔하게 등장하는 단어를 출력하라. \n",
    "- 대소문자 구분을 하지 않으며, 구두점(마침표, 쉽표 등)은 무시한다.\n",
    "\n",
    "- 참고 ) collections.counter 클래스 : https://www.daleseo.com/python-collections-counter/"
   ]
  },
  {
   "cell_type": "code",
   "execution_count": 1,
   "metadata": {},
   "outputs": [],
   "source": [
    "import collections\n",
    "import heapq\n",
    "import functools\n",
    "import itertools\n",
    "import re\n",
    "import sys\n",
    "import math\n",
    "import bisect\n",
    "from typing import *"
   ]
  },
  {
   "cell_type": "code",
   "execution_count": 9,
   "metadata": {},
   "outputs": [
    {
     "data": {
      "text/plain": [
       "[('b', 2), ('a', 1)]"
      ]
     },
     "execution_count": 9,
     "metadata": {},
     "output_type": "execute_result"
    }
   ],
   "source": [
    "count = collections.Counter([\"a\",\"a\",\"b\"]) # 리스트를 넣어도 되고 \n",
    "count2 = collections.Counter({\"a\":3, \"b\":2}) # 딕트를 넣어도 되고\n",
    "count3 = collections.Counter((\"a\",\"b\",\"b\")) # 튜플을 넣어도 된다. \n",
    "\n",
    "# 카운터 객체는 딕트 같은 느낌으로 most_common(가장 빈도가 높은 것부터 몇개 뽑을 건지 숫자로 지정) 메서드를 가지고 있다.\n",
    "count3.most_common(2) # 리턴 타입은 튜플을 요소로 가지는 리스트이다."
   ]
  },
  {
   "cell_type": "code",
   "execution_count": 44,
   "metadata": {},
   "outputs": [],
   "source": [
    "def most_common_word (paragraph : str, banned : list) -> str :\n",
    "    words = [word for word in re.sub(r'[^\\w]',\" \", paragraph).lower().split(' ')\n",
    "            if word not in banned]\n",
    "    print(words)\n",
    "    counts = collections.Counter(words)\n",
    "    return counts.most_common(1)[0][0]\n"
   ]
  },
  {
   "cell_type": "code",
   "execution_count": 46,
   "metadata": {},
   "outputs": [
    {
     "name": "stdout",
     "output_type": "stream",
     "text": [
      "['wow', 'it', 'is', 'wow', 'wow', 'it', 's']\n"
     ]
    },
    {
     "data": {
      "text/plain": [
       "'wow'"
      ]
     },
     "execution_count": 46,
     "metadata": {},
     "output_type": "execute_result"
    }
   ],
   "source": [
    "sentence = \"Wow...!!it is very Wow Wow...It's!!\"\n",
    "most_common_word(paragraph = sentence, banned =[\"very\",\"\"]) # 오홍!!!! banned에 \"\"도 추가하면 특수문자들도 다 무시 잘 할 수 있다!"
   ]
  },
  {
   "cell_type": "code",
   "execution_count": null,
   "metadata": {},
   "outputs": [],
   "source": []
  }
 ],
 "metadata": {
  "kernelspec": {
   "display_name": "Python 3",
   "language": "python",
   "name": "python3"
  },
  "language_info": {
   "codemirror_mode": {
    "name": "ipython",
    "version": 3
   },
   "file_extension": ".py",
   "mimetype": "text/x-python",
   "name": "python",
   "nbconvert_exporter": "python",
   "pygments_lexer": "ipython3",
   "version": "3.6.9"
  }
 },
 "nbformat": 4,
 "nbformat_minor": 4
}
