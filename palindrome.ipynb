{
 "cells": [
  {
   "cell_type": "markdown",
   "metadata": {},
   "source": [
    "## <문제>\n",
    "문자열(공백, 특수문자, 숫자, 영문자가 모두 섞인)이 펠린드롬(특수문자와 공백을 무시했을 때)인지 확인하는 함수를 구현하라 \n",
    "\n",
    "# 방법1 ) 리스트로 변환"
   ]
  },
  {
   "cell_type": "code",
   "execution_count": 32,
   "metadata": {},
   "outputs": [],
   "source": [
    "def isPalindrome(s:str) -> bool: \n",
    "    strs = []\n",
    "    # 1. 리스트에 따로 떼서 넣어줌\n",
    "    # 전달인자로 들어온 문자열을 알파벳이나 숫자인지 검사해서 \n",
    "    # 리스트안에 문자 하나씩 떼어서 소문자로 넣어준다.\n",
    "    \n",
    "    for char in s:\n",
    "        if char.isalnum() :\n",
    "            strs.append(char.lower())\n",
    "      # 문자열 타입의 메서드문자열이 영어, 한글 혹은 숫자로만 되어있으면 참 리턴\n",
    "      # isalpha() : 문자열이 영어 혹은 한글로 되어있으면 참 리턴\n",
    "\n",
    "    # 양끝 값을 pop해가면서 비교 -> 서로 같지 않으면 False(펠린드롬아님)를 반환\n",
    "    while len(strs) > 1:\n",
    "        if strs.pop(0) != strs.pop(): \n",
    "            return False\n",
    "        else :\n",
    "            pass # if-else\n",
    "        \n",
    "    print(strs)\n",
    "    return True"
   ]
  },
  {
   "cell_type": "code",
   "execution_count": 33,
   "metadata": {},
   "outputs": [
    {
     "name": "stdout",
     "output_type": "stream",
     "text": [
      "['e']\n"
     ]
    },
    {
     "data": {
      "text/plain": [
       "True"
      ]
     },
     "execution_count": 33,
     "metadata": {},
     "output_type": "execute_result"
    }
   ],
   "source": [
    "isPalindrome(s = \"abcdedcba\")"
   ]
  },
  {
   "cell_type": "markdown",
   "metadata": {},
   "source": [
    "# 방법2 ) 데크 자료형을 이용한 최적화\n",
    "- 데크 자료형 : 리스트와 비슷한데 양쪽에서 데이터를 처리할 수 있는 자료구조이다.\n",
    "- 참고 ) https://excelsior-cjh.tistory.com/96"
   ]
  },
  {
   "cell_type": "code",
   "execution_count": 34,
   "metadata": {},
   "outputs": [],
   "source": [
    "import collections\n",
    "import heapq\n",
    "import functools\n",
    "import itertools\n",
    "import re\n",
    "import sys\n",
    "import math\n",
    "import bisect\n",
    "from typing import *"
   ]
  },
  {
   "cell_type": "code",
   "execution_count": 35,
   "metadata": {},
   "outputs": [],
   "source": [
    "def isPalindrome(s:str) -> bool : \n",
    "    # 자료형을 리스트 대신 데크로 선언\n",
    "    strs : Deque = collections.deque()\n",
    "        \n",
    "    for char in s : \n",
    "        if char.isalnum() : \n",
    "            strs.append(char.lower())\n",
    "            \n",
    "    while len(strs) > 1 :\n",
    "        if strs.popleft() != strs.pop() :\n",
    "            return False\n",
    "        else : \n",
    "            pass #if-else\n",
    "        \n",
    "    print(strs)    \n",
    "    return True"
   ]
  },
  {
   "cell_type": "code",
   "execution_count": 36,
   "metadata": {},
   "outputs": [
    {
     "name": "stdout",
     "output_type": "stream",
     "text": [
      "deque(['8'])\n"
     ]
    },
    {
     "data": {
      "text/plain": [
       "True"
      ]
     },
     "execution_count": 36,
     "metadata": {},
     "output_type": "execute_result"
    }
   ],
   "source": [
    "isPalindrome(s = \"123456787654321\")"
   ]
  },
  {
   "cell_type": "markdown",
   "metadata": {},
   "source": [
    "# 방법3 ) 정규표현식과 슬라이싱 사용"
   ]
  },
  {
   "cell_type": "code",
   "execution_count": 37,
   "metadata": {},
   "outputs": [],
   "source": [
    "def isPalindrome(s : str) -> bool : \n",
    "    s = s.lower()\n",
    "    print(\"소문자로 바뀐 s :\",s)\n",
    "    \n",
    "    s = re.sub('[^a-z0-9]',\"\",s) \n",
    "    # 영문자소문자나 숫자가 아닌 것은 \"\"로 바꿈(즉, 없애버림)\n",
    "    \n",
    "    print(\"뒤집어준 s : \", s[::-1])\n",
    "    return s == s[::-1]"
   ]
  },
  {
   "cell_type": "code",
   "execution_count": 38,
   "metadata": {},
   "outputs": [
    {
     "data": {
      "text/plain": [
       "'dor*&\\\\%rod'"
      ]
     },
     "execution_count": 38,
     "metadata": {},
     "output_type": "execute_result"
    }
   ],
   "source": [
    "s = \"dor*&\\%ROD\"\n",
    "s.lower() \n",
    "# 특수문자는 가만히 두고 영문자 대문자를 소문자로 바꿔준다.\n",
    "# 특수문자 있다고 오류 안남"
   ]
  },
  {
   "cell_type": "code",
   "execution_count": 39,
   "metadata": {},
   "outputs": [
    {
     "name": "stdout",
     "output_type": "stream",
     "text": [
      "소문자로 바뀐 s : dor*&\\%rod\n",
      "뒤집어준 s :  dorrod\n"
     ]
    },
    {
     "data": {
      "text/plain": [
       "True"
      ]
     },
     "execution_count": 39,
     "metadata": {},
     "output_type": "execute_result"
    }
   ],
   "source": [
    "isPalindrome(s = s)"
   ]
  },
  {
   "cell_type": "code",
   "execution_count": null,
   "metadata": {},
   "outputs": [],
   "source": []
  },
  {
   "cell_type": "code",
   "execution_count": null,
   "metadata": {},
   "outputs": [],
   "source": []
  }
 ],
 "metadata": {
  "kernelspec": {
   "display_name": "Python 3",
   "language": "python",
   "name": "python3"
  },
  "language_info": {
   "codemirror_mode": {
    "name": "ipython",
    "version": 3
   },
   "file_extension": ".py",
   "mimetype": "text/x-python",
   "name": "python",
   "nbconvert_exporter": "python",
   "pygments_lexer": "ipython3",
   "version": "3.6.9"
  }
 },
 "nbformat": 4,
 "nbformat_minor": 4
}
