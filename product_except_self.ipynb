{
 "cells": [
  {
   "cell_type": "code",
   "execution_count": 1,
   "metadata": {},
   "outputs": [],
   "source": [
    "import collections\n",
    "import heapq\n",
    "import functools\n",
    "import itertools\n",
    "import re\n",
    "import sys\n",
    "import math\n",
    "import bisect\n",
    "from typing import *"
   ]
  },
  {
   "cell_type": "markdown",
   "metadata": {},
   "source": [
    "# < 문제 > 자신을 제외한 배열의 곱\n",
    "배열을 입력받아 자신이 가진 요소들 값을 제외한 모든 곱셈 결과를 리스트에 담아 출력하라.\n",
    "단, 배열에 중복값은 없다.\n",
    "- 입력 : [1,2,3,4], i = 1\n",
    "- 출력 : [24,12,8,6]"
   ]
  },
  {
   "cell_type": "code",
   "execution_count": 3,
   "metadata": {},
   "outputs": [
    {
     "data": {
      "text/plain": [
       "0"
      ]
     },
     "execution_count": 3,
     "metadata": {},
     "output_type": "execute_result"
    }
   ],
   "source": [
    "numbers = [1,2,3,4,5]\n",
    "numbers.index(1)"
   ]
  },
  {
   "cell_type": "code",
   "execution_count": 4,
   "metadata": {},
   "outputs": [],
   "source": [
    "# 이건 두 요소의 곱만 구할 수 있다. \n",
    "def pro_except_self (nums : list, i : int) -> int :\n",
    "    l = []\n",
    "    for index, num in enumerate(nums):\n",
    "        if index != nums.index(i):\n",
    "            l.append(num)\n",
    "            pass # if\n",
    "    print(l)\n",
    "    results = []\n",
    "\n",
    "    for left in range(0,len(l)-1) :\n",
    "        for right in range(left+1, len(l)):\n",
    "            results.append(l[left] * l[right])\n",
    "\n",
    "    return results"
   ]
  },
  {
   "cell_type": "code",
   "execution_count": 5,
   "metadata": {},
   "outputs": [
    {
     "name": "stdout",
     "output_type": "stream",
     "text": [
      "[2, 3, 4, 5]\n"
     ]
    },
    {
     "data": {
      "text/plain": [
       "[6, 8, 10, 12, 15, 20]"
      ]
     },
     "execution_count": 5,
     "metadata": {},
     "output_type": "execute_result"
    }
   ],
   "source": [
    "pro_except_self(nums = numbers, i=1)"
   ]
  },
  {
   "cell_type": "markdown",
   "metadata": {},
   "source": [
    "# 방법 1 ) 왼쪽 곱셈 결과에 오른쪽 값을 차례로 곱셈"
   ]
  },
  {
   "cell_type": "code",
   "execution_count": 64,
   "metadata": {
    "scrolled": true
   },
   "outputs": [],
   "source": [
    "# 인덱싱으로 요소를 뽑아내서 한 것 -> i라는 변수가 하나 더 쓰임\n",
    "def product_except_self (nums : List[int]) -> List[int] :\n",
    "    p = 1\n",
    "    out = []\n",
    "    for i in nums[0:len(nums)] :\n",
    "        out.append(p)\n",
    "        p = p*i\n",
    "    print(out)\n",
    "\n",
    "    p = 1\n",
    "    i = len(nums)-1\n",
    "    for num in nums[len(nums)-1::-1] :\n",
    "        out[i] = out[i]*p\n",
    "        p = p*num\n",
    "        i -= 1\n",
    "    print(out)\n",
    "    \n",
    "    return out"
   ]
  },
  {
   "cell_type": "code",
   "execution_count": 61,
   "metadata": {},
   "outputs": [
    {
     "name": "stdout",
     "output_type": "stream",
     "text": [
      "[1, 1, 2, 6]\n",
      "[24, 12, 8, 6]\n"
     ]
    },
    {
     "data": {
      "text/plain": [
       "[24, 12, 8, 6]"
      ]
     },
     "execution_count": 61,
     "metadata": {},
     "output_type": "execute_result"
    }
   ],
   "source": [
    "numbers = [1,2,3,4]\n",
    "product_except_self(nums = numbers)"
   ]
  },
  {
   "cell_type": "code",
   "execution_count": 62,
   "metadata": {},
   "outputs": [],
   "source": [
    "# range로 인덱스 번호로 조작한 것\n",
    "def product_except_self (nums : List[int]) -> List[int] :\n",
    "    p = 1\n",
    "    out = []\n",
    "    for i in range(0,len(nums)) :\n",
    "        print(i)\n",
    "        out.append(p)\n",
    "        p *= nums[i]\n",
    "    print(out)\n",
    "\n",
    "    p = 1\n",
    "    for i in range(len(nums)-1,-1,-1) :\n",
    "        print(i)\n",
    "        out[i] = out[i]*p\n",
    "        p *= nums[i]   \n",
    "    print(out)\n",
    "    \n",
    "    return out"
   ]
  },
  {
   "cell_type": "code",
   "execution_count": 63,
   "metadata": {
    "scrolled": true
   },
   "outputs": [
    {
     "name": "stdout",
     "output_type": "stream",
     "text": [
      "0\n",
      "1\n",
      "2\n",
      "3\n",
      "[1, 1, 2, 6]\n",
      "3\n",
      "2\n",
      "1\n",
      "0\n",
      "[24, 12, 8, 6]\n"
     ]
    },
    {
     "data": {
      "text/plain": [
       "[24, 12, 8, 6]"
      ]
     },
     "execution_count": 63,
     "metadata": {},
     "output_type": "execute_result"
    }
   ],
   "source": [
    "numbers = [1,2,3,4]\n",
    "product_except_self(nums = numbers)"
   ]
  },
  {
   "cell_type": "code",
   "execution_count": null,
   "metadata": {},
   "outputs": [],
   "source": []
  }
 ],
 "metadata": {
  "kernelspec": {
   "display_name": "Python 3",
   "language": "python",
   "name": "python3"
  },
  "language_info": {
   "codemirror_mode": {
    "name": "ipython",
    "version": 3
   },
   "file_extension": ".py",
   "mimetype": "text/x-python",
   "name": "python",
   "nbconvert_exporter": "python",
   "pygments_lexer": "ipython3",
   "version": "3.6.9"
  }
 },
 "nbformat": 4,
 "nbformat_minor": 4
}
