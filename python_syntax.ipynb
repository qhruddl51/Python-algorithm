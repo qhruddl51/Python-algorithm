{
 "cells": [
  {
   "cell_type": "markdown",
   "metadata": {},
   "source": [
    "# generator"
   ]
  },
  {
   "cell_type": "code",
   "execution_count": 62,
   "metadata": {},
   "outputs": [],
   "source": [
    "def generator() : \n",
    "    yield 100\n",
    "    yield True\n",
    "    yield \"할쑤이쒀\" # 이 제너레이터는 3번만 값생성함\n",
    "    \n",
    "g = generator() # 제너레이터 객체 생성"
   ]
  },
  {
   "cell_type": "code",
   "execution_count": 63,
   "metadata": {},
   "outputs": [
    {
     "name": "stdout",
     "output_type": "stream",
     "text": [
      "0\n",
      "100\n",
      "==================================================\n",
      "1\n",
      "True\n",
      "==================================================\n",
      "2\n",
      "할쑤이쒀\n",
      "==================================================\n",
      "3\n"
     ]
    },
    {
     "ename": "StopIteration",
     "evalue": "",
     "output_type": "error",
     "traceback": [
      "\u001b[0;31m---------------------------------------------------------------------------\u001b[0m",
      "\u001b[0;31mStopIteration\u001b[0m                             Traceback (most recent call last)",
      "\u001b[0;32m<ipython-input-63-92bf65d7df69>\u001b[0m in \u001b[0;36m<module>\u001b[0;34m\u001b[0m\n\u001b[1;32m      3\u001b[0m \u001b[0;32mfor\u001b[0m \u001b[0mi\u001b[0m \u001b[0;32min\u001b[0m \u001b[0mrange\u001b[0m\u001b[0;34m(\u001b[0m\u001b[0;36m15\u001b[0m\u001b[0;34m)\u001b[0m\u001b[0;34m:\u001b[0m\u001b[0;34m\u001b[0m\u001b[0;34m\u001b[0m\u001b[0m\n\u001b[1;32m      4\u001b[0m     \u001b[0mprint\u001b[0m\u001b[0;34m(\u001b[0m\u001b[0mi\u001b[0m\u001b[0;34m)\u001b[0m\u001b[0;34m\u001b[0m\u001b[0;34m\u001b[0m\u001b[0m\n\u001b[0;32m----> 5\u001b[0;31m     \u001b[0mprint\u001b[0m\u001b[0;34m(\u001b[0m\u001b[0mnext\u001b[0m\u001b[0;34m(\u001b[0m\u001b[0mg\u001b[0m\u001b[0;34m)\u001b[0m\u001b[0;34m)\u001b[0m \u001b[0;31m# next 함수에 제너레이터를 전달인자로 넣어주면 된다!\u001b[0m\u001b[0;34m\u001b[0m\u001b[0;34m\u001b[0m\u001b[0m\n\u001b[0m\u001b[1;32m      6\u001b[0m     \u001b[0mprint\u001b[0m\u001b[0;34m(\u001b[0m\u001b[0;34m'='\u001b[0m\u001b[0;34m*\u001b[0m\u001b[0;36m50\u001b[0m\u001b[0;34m)\u001b[0m\u001b[0;34m\u001b[0m\u001b[0;34m\u001b[0m\u001b[0m\n",
      "\u001b[0;31mStopIteration\u001b[0m: "
     ]
    }
   ],
   "source": [
    "# g = generator() # 제너레이터 객체 생성\n",
    "\n",
    "for i in range(15):\n",
    "    print(i)\n",
    "    print(next(g)) # next 함수에 제너레이터를 전달인자로 넣어주면 된다!\n",
    "    print('='*50)"
   ]
  },
  {
   "cell_type": "code",
   "execution_count": 64,
   "metadata": {},
   "outputs": [],
   "source": [
    "def generator() : \n",
    "    n=0\n",
    "    while True : # 계속 값을 줄 수 있는 제너레이터 객체\n",
    "        n +=1\n",
    "        yield n\n",
    "        \n",
    "        \n",
    "g = generator()     # 제너레이터 객체 생성    "
   ]
  },
  {
   "cell_type": "code",
   "execution_count": 71,
   "metadata": {},
   "outputs": [
    {
     "name": "stdout",
     "output_type": "stream",
     "text": [
      "0 번째 반복\n",
      "31\n",
      "==================================================\n",
      "1 번째 반복\n",
      "32\n",
      "==================================================\n",
      "2 번째 반복\n",
      "33\n",
      "==================================================\n",
      "3 번째 반복\n",
      "34\n",
      "==================================================\n",
      "4 번째 반복\n",
      "35\n",
      "==================================================\n"
     ]
    }
   ],
   "source": [
    "# 이 블록은 그러니까 사실 계속 수행할 수 있다\n",
    "\n",
    "for i in range(5):\n",
    "    print(i,\"번째 반복\")\n",
    "    print(next(g)) \n",
    "    \n",
    "    print('='*50)"
   ]
  },
  {
   "cell_type": "markdown",
   "metadata": {},
   "source": [
    "# enumerate"
   ]
  },
  {
   "cell_type": "code",
   "execution_count": 92,
   "metadata": {},
   "outputs": [
    {
     "name": "stdout",
     "output_type": "stream",
     "text": [
      "<enumerate object at 0x7f33740a6900>\n",
      "[(0, 2), (1, 4), (2, 6), (3, 8), (4, 10), (5, 12), (6, 14), (7, 16), (8, 18), (9, 20)]\n",
      "<class 'list'>\n",
      "[(0, 2), (1, 4), (2, 6), (3, 8), (4, 10), (5, 12), (6, 14), (7, 16), (8, 18), (9, 20)]\n"
     ]
    }
   ],
   "source": [
    "a = [2,4,6,8,10,12,14,16,18,20]\n",
    "print(enumerate(a))\n",
    "\n",
    "# 방법 1 : 리스트 함수를 써서 형변환 \n",
    "print(list(enumerate(a)))\n",
    "print(type(list(enumerate(a))))\n",
    "\n",
    "# 방법 2 : 리스트 내포 \n",
    "print([(i,v) for i,v in enumerate(a)]) # --> 결국 둘은 동일한 결과"
   ]
  },
  {
   "cell_type": "code",
   "execution_count": 93,
   "metadata": {},
   "outputs": [
    {
     "name": "stdout",
     "output_type": "stream",
     "text": [
      "(0, 2)\n",
      "(1, 4)\n",
      "(2, 6)\n",
      "(3, 8)\n",
      "(4, 10)\n",
      "(5, 12)\n",
      "(6, 14)\n",
      "(7, 16)\n",
      "(8, 18)\n",
      "(9, 20)\n"
     ]
    }
   ],
   "source": [
    "for i, v in enumerate(a) : \n",
    "    print((i,v))"
   ]
  },
  {
   "cell_type": "code",
   "execution_count": 96,
   "metadata": {},
   "outputs": [
    {
     "name": "stdout",
     "output_type": "stream",
     "text": [
      "<class 'dict'>\n"
     ]
    },
    {
     "data": {
      "text/plain": [
       "[{0: 2},\n",
       " {1: 4},\n",
       " {2: 6},\n",
       " {3: 8},\n",
       " {4: 10},\n",
       " {5: 12},\n",
       " {6: 14},\n",
       " {7: 16},\n",
       " {8: 18},\n",
       " {9: 20}]"
      ]
     },
     "execution_count": 96,
     "metadata": {},
     "output_type": "execute_result"
    }
   ],
   "source": [
    "print(type([{i:v} for i,v in enumerate(a)][0]))\n",
    "[{i:v} for i,v in enumerate(a)]"
   ]
  },
  {
   "cell_type": "code",
   "execution_count": 98,
   "metadata": {},
   "outputs": [
    {
     "data": {
      "text/plain": [
       "tuple"
      ]
     },
     "execution_count": 98,
     "metadata": {},
     "output_type": "execute_result"
    }
   ],
   "source": [
    "type(divmod(5,3))"
   ]
  },
  {
   "cell_type": "code",
   "execution_count": null,
   "metadata": {},
   "outputs": [],
   "source": []
  }
 ],
 "metadata": {
  "kernelspec": {
   "display_name": "Python 3",
   "language": "python",
   "name": "python3"
  },
  "language_info": {
   "codemirror_mode": {
    "name": "ipython",
    "version": 3
   },
   "file_extension": ".py",
   "mimetype": "text/x-python",
   "name": "python",
   "nbconvert_exporter": "python",
   "pygments_lexer": "ipython3",
   "version": "3.6.9"
  }
 },
 "nbformat": 4,
 "nbformat_minor": 4
}
