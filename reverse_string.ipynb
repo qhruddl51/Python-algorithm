{
 "cells": [
  {
   "cell_type": "markdown",
   "metadata": {},
   "source": [
    "## <문제>\n",
    "리스트 안에 문자가 하나씩 들어있을 때 그 리스트를 뒤집어라\n",
    "\n",
    "단, 리턴 없이 리스트 내부를 직접 조작하라."
   ]
  },
  {
   "cell_type": "markdown",
   "metadata": {},
   "source": [
    "# 방법 1 ) 투 포인터를 이용한 스왑"
   ]
  },
  {
   "cell_type": "code",
   "execution_count": 16,
   "metadata": {},
   "outputs": [],
   "source": [
    "l = [\"a\",\"b\",\"c\",\"d\",\"e\"]\n",
    "\n",
    "def reverse_list (s : list) -> None :\n",
    "    left_index = 0\n",
    "    right_index = len(s)-1\n",
    "    \n",
    "    while left_index < right_index : \n",
    "        s[left_index], s[right_index] = s[right_index], s[left_index]\n",
    "        left_index += 1\n",
    "        right_index -= 1\n",
    "        \n",
    "    print(s)"
   ]
  },
  {
   "cell_type": "code",
   "execution_count": 17,
   "metadata": {},
   "outputs": [
    {
     "name": "stdout",
     "output_type": "stream",
     "text": [
      "['e', 'd', 'c', 'b', 'a']\n"
     ]
    }
   ],
   "source": [
    "reverse_list(s = l)"
   ]
  },
  {
   "cell_type": "markdown",
   "metadata": {},
   "source": [
    "# 방법2 ) 그냥 리스트의 메서드 활용"
   ]
  },
  {
   "cell_type": "code",
   "execution_count": 25,
   "metadata": {},
   "outputs": [],
   "source": [
    "def reverse_list (s : list) -> None :\n",
    "    s.reverse()\n",
    "    print(s)"
   ]
  },
  {
   "cell_type": "code",
   "execution_count": 26,
   "metadata": {},
   "outputs": [
    {
     "name": "stdout",
     "output_type": "stream",
     "text": [
      "['e', 'd', 'c', 'b', 'a']\n"
     ]
    }
   ],
   "source": [
    "l = [\"a\",\"b\",\"c\",\"d\",\"e\"]\n",
    "\n",
    "reverse_list(s = l)"
   ]
  },
  {
   "cell_type": "code",
   "execution_count": 28,
   "metadata": {},
   "outputs": [
    {
     "name": "stdout",
     "output_type": "stream",
     "text": [
      "edcba\n"
     ]
    }
   ],
   "source": [
    "# 슬라이싱으로 문자열 뒤집기\n",
    "s = \"abcde\"\n",
    "s = s[::-1]\n",
    "print(s)"
   ]
  }
 ],
 "metadata": {
  "kernelspec": {
   "display_name": "Python 3",
   "language": "python",
   "name": "python3"
  },
  "language_info": {
   "codemirror_mode": {
    "name": "ipython",
    "version": 3
   },
   "file_extension": ".py",
   "mimetype": "text/x-python",
   "name": "python",
   "nbconvert_exporter": "python",
   "pygments_lexer": "ipython3",
   "version": "3.6.9"
  }
 },
 "nbformat": 4,
 "nbformat_minor": 4
}
